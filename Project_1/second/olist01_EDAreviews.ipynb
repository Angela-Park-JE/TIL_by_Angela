{
 "cells": [
  {
   "cell_type": "code",
   "execution_count": 1,
   "id": "3ece6477",
   "metadata": {},
   "outputs": [],
   "source": [
    "import pandas as pd\n",
    "import numpy as np\n",
    "import matplotlib.pyplot as plt\n",
    "import seaborn as sns"
   ]
  },
  {
   "cell_type": "code",
   "execution_count": 2,
   "id": "f7d3b6c0",
   "metadata": {},
   "outputs": [
    {
     "name": "stdout",
     "output_type": "stream",
     "text": [
      "1.4.1\n",
      "0.11.2\n"
     ]
    }
   ],
   "source": [
    "print(pd.__version__)\n",
    "print(sns.__version__)"
   ]
  },
  {
   "cell_type": "code",
   "execution_count": 3,
   "id": "03bdb149",
   "metadata": {
    "scrolled": true
   },
   "outputs": [
    {
     "data": {
      "text/html": [
       "<div>\n",
       "<style scoped>\n",
       "    .dataframe tbody tr th:only-of-type {\n",
       "        vertical-align: middle;\n",
       "    }\n",
       "\n",
       "    .dataframe tbody tr th {\n",
       "        vertical-align: top;\n",
       "    }\n",
       "\n",
       "    .dataframe thead th {\n",
       "        text-align: right;\n",
       "    }\n",
       "</style>\n",
       "<table border=\"1\" class=\"dataframe\">\n",
       "  <thead>\n",
       "    <tr style=\"text-align: right;\">\n",
       "      <th></th>\n",
       "      <th>review_id</th>\n",
       "      <th>order_id</th>\n",
       "      <th>review_score</th>\n",
       "      <th>review_comment_title</th>\n",
       "      <th>review_comment_message</th>\n",
       "      <th>review_creation_date</th>\n",
       "      <th>review_answer_timestamp</th>\n",
       "    </tr>\n",
       "  </thead>\n",
       "  <tbody>\n",
       "    <tr>\n",
       "      <th>0</th>\n",
       "      <td>7bc2406110b926393aa56f80a40eba40</td>\n",
       "      <td>73fc7af87114b39712e6da79b0a377eb</td>\n",
       "      <td>4</td>\n",
       "      <td>NaN</td>\n",
       "      <td>NaN</td>\n",
       "      <td>2018-01-18 00:00:00</td>\n",
       "      <td>2018-01-18 21:46:59</td>\n",
       "    </tr>\n",
       "    <tr>\n",
       "      <th>1</th>\n",
       "      <td>80e641a11e56f04c1ad469d5645fdfde</td>\n",
       "      <td>a548910a1c6147796b98fdf73dbeba33</td>\n",
       "      <td>5</td>\n",
       "      <td>NaN</td>\n",
       "      <td>NaN</td>\n",
       "      <td>2018-03-10 00:00:00</td>\n",
       "      <td>2018-03-11 03:05:13</td>\n",
       "    </tr>\n",
       "    <tr>\n",
       "      <th>2</th>\n",
       "      <td>228ce5500dc1d8e020d8d1322874b6f0</td>\n",
       "      <td>f9e4b658b201a9f2ecdecbb34bed034b</td>\n",
       "      <td>5</td>\n",
       "      <td>NaN</td>\n",
       "      <td>NaN</td>\n",
       "      <td>2018-02-17 00:00:00</td>\n",
       "      <td>2018-02-18 14:36:24</td>\n",
       "    </tr>\n",
       "    <tr>\n",
       "      <th>3</th>\n",
       "      <td>e64fb393e7b32834bb789ff8bb30750e</td>\n",
       "      <td>658677c97b385a9be170737859d3511b</td>\n",
       "      <td>5</td>\n",
       "      <td>NaN</td>\n",
       "      <td>Recebi bem antes do prazo estipulado.</td>\n",
       "      <td>2017-04-21 00:00:00</td>\n",
       "      <td>2017-04-21 22:02:06</td>\n",
       "    </tr>\n",
       "    <tr>\n",
       "      <th>4</th>\n",
       "      <td>f7c4243c7fe1938f181bec41a392bdeb</td>\n",
       "      <td>8e6bfb81e283fa7e4f11123a3fb894f1</td>\n",
       "      <td>5</td>\n",
       "      <td>NaN</td>\n",
       "      <td>Parabéns lojas lannister adorei comprar pela I...</td>\n",
       "      <td>2018-03-01 00:00:00</td>\n",
       "      <td>2018-03-02 10:26:53</td>\n",
       "    </tr>\n",
       "    <tr>\n",
       "      <th>...</th>\n",
       "      <td>...</td>\n",
       "      <td>...</td>\n",
       "      <td>...</td>\n",
       "      <td>...</td>\n",
       "      <td>...</td>\n",
       "      <td>...</td>\n",
       "      <td>...</td>\n",
       "    </tr>\n",
       "    <tr>\n",
       "      <th>99219</th>\n",
       "      <td>574ed12dd733e5fa530cfd4bbf39d7c9</td>\n",
       "      <td>2a8c23fee101d4d5662fa670396eb8da</td>\n",
       "      <td>5</td>\n",
       "      <td>NaN</td>\n",
       "      <td>NaN</td>\n",
       "      <td>2018-07-07 00:00:00</td>\n",
       "      <td>2018-07-14 17:18:30</td>\n",
       "    </tr>\n",
       "    <tr>\n",
       "      <th>99220</th>\n",
       "      <td>f3897127253a9592a73be9bdfdf4ed7a</td>\n",
       "      <td>22ec9f0669f784db00fa86d035cf8602</td>\n",
       "      <td>5</td>\n",
       "      <td>NaN</td>\n",
       "      <td>NaN</td>\n",
       "      <td>2017-12-09 00:00:00</td>\n",
       "      <td>2017-12-11 20:06:42</td>\n",
       "    </tr>\n",
       "    <tr>\n",
       "      <th>99221</th>\n",
       "      <td>b3de70c89b1510c4cd3d0649fd302472</td>\n",
       "      <td>55d4004744368f5571d1f590031933e4</td>\n",
       "      <td>5</td>\n",
       "      <td>NaN</td>\n",
       "      <td>Excelente mochila, entrega super rápida. Super...</td>\n",
       "      <td>2018-03-22 00:00:00</td>\n",
       "      <td>2018-03-23 09:10:43</td>\n",
       "    </tr>\n",
       "    <tr>\n",
       "      <th>99222</th>\n",
       "      <td>1adeb9d84d72fe4e337617733eb85149</td>\n",
       "      <td>7725825d039fc1f0ceb7635e3f7d9206</td>\n",
       "      <td>4</td>\n",
       "      <td>NaN</td>\n",
       "      <td>NaN</td>\n",
       "      <td>2018-07-01 00:00:00</td>\n",
       "      <td>2018-07-02 12:59:13</td>\n",
       "    </tr>\n",
       "    <tr>\n",
       "      <th>99223</th>\n",
       "      <td>efe49f1d6f951dd88b51e6ccd4cc548f</td>\n",
       "      <td>90531360ecb1eec2a1fbb265a0db0508</td>\n",
       "      <td>1</td>\n",
       "      <td>NaN</td>\n",
       "      <td>meu produto chegou e ja tenho que devolver, po...</td>\n",
       "      <td>2017-07-03 00:00:00</td>\n",
       "      <td>2017-07-03 21:01:49</td>\n",
       "    </tr>\n",
       "  </tbody>\n",
       "</table>\n",
       "<p>99224 rows × 7 columns</p>\n",
       "</div>"
      ],
      "text/plain": [
       "                              review_id                          order_id  \\\n",
       "0      7bc2406110b926393aa56f80a40eba40  73fc7af87114b39712e6da79b0a377eb   \n",
       "1      80e641a11e56f04c1ad469d5645fdfde  a548910a1c6147796b98fdf73dbeba33   \n",
       "2      228ce5500dc1d8e020d8d1322874b6f0  f9e4b658b201a9f2ecdecbb34bed034b   \n",
       "3      e64fb393e7b32834bb789ff8bb30750e  658677c97b385a9be170737859d3511b   \n",
       "4      f7c4243c7fe1938f181bec41a392bdeb  8e6bfb81e283fa7e4f11123a3fb894f1   \n",
       "...                                 ...                               ...   \n",
       "99219  574ed12dd733e5fa530cfd4bbf39d7c9  2a8c23fee101d4d5662fa670396eb8da   \n",
       "99220  f3897127253a9592a73be9bdfdf4ed7a  22ec9f0669f784db00fa86d035cf8602   \n",
       "99221  b3de70c89b1510c4cd3d0649fd302472  55d4004744368f5571d1f590031933e4   \n",
       "99222  1adeb9d84d72fe4e337617733eb85149  7725825d039fc1f0ceb7635e3f7d9206   \n",
       "99223  efe49f1d6f951dd88b51e6ccd4cc548f  90531360ecb1eec2a1fbb265a0db0508   \n",
       "\n",
       "       review_score review_comment_title  \\\n",
       "0                 4                  NaN   \n",
       "1                 5                  NaN   \n",
       "2                 5                  NaN   \n",
       "3                 5                  NaN   \n",
       "4                 5                  NaN   \n",
       "...             ...                  ...   \n",
       "99219             5                  NaN   \n",
       "99220             5                  NaN   \n",
       "99221             5                  NaN   \n",
       "99222             4                  NaN   \n",
       "99223             1                  NaN   \n",
       "\n",
       "                                  review_comment_message review_creation_date  \\\n",
       "0                                                    NaN  2018-01-18 00:00:00   \n",
       "1                                                    NaN  2018-03-10 00:00:00   \n",
       "2                                                    NaN  2018-02-17 00:00:00   \n",
       "3                  Recebi bem antes do prazo estipulado.  2017-04-21 00:00:00   \n",
       "4      Parabéns lojas lannister adorei comprar pela I...  2018-03-01 00:00:00   \n",
       "...                                                  ...                  ...   \n",
       "99219                                                NaN  2018-07-07 00:00:00   \n",
       "99220                                                NaN  2017-12-09 00:00:00   \n",
       "99221  Excelente mochila, entrega super rápida. Super...  2018-03-22 00:00:00   \n",
       "99222                                                NaN  2018-07-01 00:00:00   \n",
       "99223  meu produto chegou e ja tenho que devolver, po...  2017-07-03 00:00:00   \n",
       "\n",
       "      review_answer_timestamp  \n",
       "0         2018-01-18 21:46:59  \n",
       "1         2018-03-11 03:05:13  \n",
       "2         2018-02-18 14:36:24  \n",
       "3         2017-04-21 22:02:06  \n",
       "4         2018-03-02 10:26:53  \n",
       "...                       ...  \n",
       "99219     2018-07-14 17:18:30  \n",
       "99220     2017-12-11 20:06:42  \n",
       "99221     2018-03-23 09:10:43  \n",
       "99222     2018-07-02 12:59:13  \n",
       "99223     2017-07-03 21:01:49  \n",
       "\n",
       "[99224 rows x 7 columns]"
      ]
     },
     "execution_count": 3,
     "metadata": {},
     "output_type": "execute_result"
    }
   ],
   "source": [
    "df = pd.read_csv('./eda_csv/olist_order_reviews_dataset.csv', )\n",
    "df"
   ]
  },
  {
   "cell_type": "code",
   "execution_count": 4,
   "id": "cbe91c87",
   "metadata": {},
   "outputs": [
    {
     "data": {
      "text/plain": [
       "Index(['review_id', 'order_id', 'review_score', 'review_comment_title',\n",
       "       'review_comment_message', 'review_creation_date',\n",
       "       'review_answer_timestamp'],\n",
       "      dtype='object')"
      ]
     },
     "execution_count": 4,
     "metadata": {},
     "output_type": "execute_result"
    }
   ],
   "source": [
    "df.columns"
   ]
  },
  {
   "cell_type": "code",
   "execution_count": 5,
   "id": "78f8cd2a",
   "metadata": {},
   "outputs": [
    {
     "name": "stdout",
     "output_type": "stream",
     "text": [
      "<class 'pandas.core.frame.DataFrame'>\n",
      "RangeIndex: 99224 entries, 0 to 99223\n",
      "Data columns (total 7 columns):\n",
      " #   Column                   Non-Null Count  Dtype \n",
      "---  ------                   --------------  ----- \n",
      " 0   review_id                99224 non-null  object\n",
      " 1   order_id                 99224 non-null  object\n",
      " 2   review_score             99224 non-null  int64 \n",
      " 3   review_comment_title     11568 non-null  object\n",
      " 4   review_comment_message   40977 non-null  object\n",
      " 5   review_creation_date     99224 non-null  object\n",
      " 6   review_answer_timestamp  99224 non-null  object\n",
      "dtypes: int64(1), object(6)\n",
      "memory usage: 5.3+ MB\n"
     ]
    }
   ],
   "source": [
    "df.info()"
   ]
  },
  {
   "cell_type": "code",
   "execution_count": 6,
   "id": "112c778c",
   "metadata": {},
   "outputs": [
    {
     "data": {
      "text/plain": [
       "(99224, 7)"
      ]
     },
     "execution_count": 6,
     "metadata": {},
     "output_type": "execute_result"
    }
   ],
   "source": [
    "df.shape"
   ]
  },
  {
   "cell_type": "markdown",
   "id": "33759fb4",
   "metadata": {},
   "source": [
    "## 결측 데이터 확인"
   ]
  },
  {
   "cell_type": "code",
   "execution_count": 7,
   "id": "227c0776",
   "metadata": {},
   "outputs": [
    {
     "data": {
      "text/plain": [
       "review_id                      0\n",
       "order_id                       0\n",
       "review_score                   0\n",
       "review_comment_title       87656\n",
       "review_comment_message     58247\n",
       "review_creation_date           0\n",
       "review_answer_timestamp        0\n",
       "dtype: int64"
      ]
     },
     "execution_count": 7,
     "metadata": {},
     "output_type": "execute_result"
    }
   ],
   "source": [
    "df.isnull().sum()"
   ]
  },
  {
   "cell_type": "code",
   "execution_count": 8,
   "id": "58ae596a",
   "metadata": {},
   "outputs": [
    {
     "data": {
      "text/plain": [
       "<AxesSubplot:>"
      ]
     },
     "execution_count": 8,
     "metadata": {},
     "output_type": "execute_result"
    },
    {
     "data": {
      "image/png": "[encoded data removed]",
      "text/plain": [
       "<Figure size 432x288 with 2 Axes>"
      ]
     },
     "metadata": {
      "needs_background": "light"
     },
     "output_type": "display_data"
    }
   ],
   "source": [
    "sns.heatmap(df.isnull(), cmap=\"Greys_r\")"
   ]
  },
  {
   "cell_type": "markdown",
   "id": "e21e5cc1",
   "metadata": {},
   "source": [
    "리뷰 데이터의 리뷰제목 대부분 99224건 중 87656 건이 비어있고, 58247 건이 리뷰가 없다."
   ]
  },
  {
   "cell_type": "code",
   "execution_count": 9,
   "id": "bf3583b6",
   "metadata": {},
   "outputs": [
    {
     "data": {
      "text/plain": [
       "review_id                   0.000000\n",
       "order_id                    0.000000\n",
       "review_score                0.000000\n",
       "review_comment_title       88.341530\n",
       "review_comment_message     58.702532\n",
       "review_creation_date        0.000000\n",
       "review_answer_timestamp     0.000000\n",
       "dtype: float64"
      ]
     },
     "execution_count": 9,
     "metadata": {},
     "output_type": "execute_result"
    }
   ],
   "source": [
    "df.isnull().mean()*100"
   ]
  },
  {
   "cell_type": "markdown",
   "id": "4d599ee3",
   "metadata": {},
   "source": [
    "# message vs title"
   ]
  },
  {
   "cell_type": "markdown",
   "id": "46547333",
   "metadata": {},
   "source": [
    "### 메세지랑 타이틀 둘다 있는 것 "
   ]
  },
  {
   "cell_type": "code",
   "execution_count": 27,
   "id": "b43f82a0",
   "metadata": {},
   "outputs": [],
   "source": [
    "df_toco = df[(df['review_comment_title'].notna())&(df['review_comment_message'].notna())]"
   ]
  },
  {
   "cell_type": "code",
   "execution_count": 28,
   "id": "7060927e",
   "metadata": {},
   "outputs": [
    {
     "data": {
      "text/html": [
       "<div>\n",
       "<style scoped>\n",
       "    .dataframe tbody tr th:only-of-type {\n",
       "        vertical-align: middle;\n",
       "    }\n",
       "\n",
       "    .dataframe tbody tr th {\n",
       "        vertical-align: top;\n",
       "    }\n",
       "\n",
       "    .dataframe thead th {\n",
       "        text-align: right;\n",
       "    }\n",
       "</style>\n",
       "<table border=\"1\" class=\"dataframe\">\n",
       "  <thead>\n",
       "    <tr style=\"text-align: right;\">\n",
       "      <th></th>\n",
       "      <th>review_id</th>\n",
       "      <th>order_id</th>\n",
       "      <th>review_score</th>\n",
       "      <th>review_comment_title</th>\n",
       "      <th>review_comment_message</th>\n",
       "      <th>review_creation_date</th>\n",
       "      <th>review_answer_timestamp</th>\n",
       "    </tr>\n",
       "  </thead>\n",
       "  <tbody>\n",
       "    <tr>\n",
       "      <th>9</th>\n",
       "      <td>8670d52e15e00043ae7de4c01cc2fe06</td>\n",
       "      <td>b9bf720beb4ab3728760088589c62129</td>\n",
       "      <td>4</td>\n",
       "      <td>recomendo</td>\n",
       "      <td>aparelho eficiente. no site a marca do aparelh...</td>\n",
       "      <td>2018-05-22 00:00:00</td>\n",
       "      <td>2018-05-23 16:45:47</td>\n",
       "    </tr>\n",
       "    <tr>\n",
       "      <th>15</th>\n",
       "      <td>3948b09f7c818e2d86c9a546758b2335</td>\n",
       "      <td>e51478e7e277a83743b6f9991dbfa3fb</td>\n",
       "      <td>5</td>\n",
       "      <td>Super recomendo</td>\n",
       "      <td>Vendedor confiável, produto ok e entrega antes...</td>\n",
       "      <td>2018-05-23 00:00:00</td>\n",
       "      <td>2018-05-24 03:00:01</td>\n",
       "    </tr>\n",
       "    <tr>\n",
       "      <th>19</th>\n",
       "      <td>373cbeecea8286a2b66c97b1b157ec46</td>\n",
       "      <td>583174fbe37d3d5f0d6661be3aad1786</td>\n",
       "      <td>1</td>\n",
       "      <td>Não chegou meu produto</td>\n",
       "      <td>Péssimo</td>\n",
       "      <td>2018-08-15 00:00:00</td>\n",
       "      <td>2018-08-15 04:10:37</td>\n",
       "    </tr>\n",
       "    <tr>\n",
       "      <th>22</th>\n",
       "      <td>d21bbc789670eab777d27372ab9094cc</td>\n",
       "      <td>4fc44d78867142c627497b60a7e0228a</td>\n",
       "      <td>5</td>\n",
       "      <td>Ótimo</td>\n",
       "      <td>Loja nota 10</td>\n",
       "      <td>2018-07-10 00:00:00</td>\n",
       "      <td>2018-07-11 14:10:25</td>\n",
       "    </tr>\n",
       "    <tr>\n",
       "      <th>34</th>\n",
       "      <td>c92cdd7dd544a01aa35137f901669cdf</td>\n",
       "      <td>37e7875cdce5a9e5b3a692971f370151</td>\n",
       "      <td>4</td>\n",
       "      <td>Muito bom.</td>\n",
       "      <td>Recebi exatamente o que esperava. As demais en...</td>\n",
       "      <td>2018-06-07 00:00:00</td>\n",
       "      <td>2018-06-09 18:44:02</td>\n",
       "    </tr>\n",
       "  </tbody>\n",
       "</table>\n",
       "</div>"
      ],
      "text/plain": [
       "                           review_id                          order_id  \\\n",
       "9   8670d52e15e00043ae7de4c01cc2fe06  b9bf720beb4ab3728760088589c62129   \n",
       "15  3948b09f7c818e2d86c9a546758b2335  e51478e7e277a83743b6f9991dbfa3fb   \n",
       "19  373cbeecea8286a2b66c97b1b157ec46  583174fbe37d3d5f0d6661be3aad1786   \n",
       "22  d21bbc789670eab777d27372ab9094cc  4fc44d78867142c627497b60a7e0228a   \n",
       "34  c92cdd7dd544a01aa35137f901669cdf  37e7875cdce5a9e5b3a692971f370151   \n",
       "\n",
       "    review_score     review_comment_title  \\\n",
       "9              4                recomendo   \n",
       "15             5          Super recomendo   \n",
       "19             1  Não chegou meu produto    \n",
       "22             5                    Ótimo   \n",
       "34             4               Muito bom.   \n",
       "\n",
       "                               review_comment_message review_creation_date  \\\n",
       "9   aparelho eficiente. no site a marca do aparelh...  2018-05-22 00:00:00   \n",
       "15  Vendedor confiável, produto ok e entrega antes...  2018-05-23 00:00:00   \n",
       "19                                            Péssimo  2018-08-15 00:00:00   \n",
       "22                                       Loja nota 10  2018-07-10 00:00:00   \n",
       "34  Recebi exatamente o que esperava. As demais en...  2018-06-07 00:00:00   \n",
       "\n",
       "   review_answer_timestamp  \n",
       "9      2018-05-23 16:45:47  \n",
       "15     2018-05-24 03:00:01  \n",
       "19     2018-08-15 04:10:37  \n",
       "22     2018-07-11 14:10:25  \n",
       "34     2018-06-09 18:44:02  "
      ]
     },
     "execution_count": 28,
     "metadata": {},
     "output_type": "execute_result"
    }
   ],
   "source": [
    "df_toco.head()"
   ]
  },
  {
   "cell_type": "code",
   "execution_count": 29,
   "id": "6a50faa6",
   "metadata": {},
   "outputs": [
    {
     "data": {
      "text/plain": [
       "(9839, 7)"
      ]
     },
     "execution_count": 29,
     "metadata": {},
     "output_type": "execute_result"
    }
   ],
   "source": [
    "df_toco.shape"
   ]
  },
  {
   "cell_type": "markdown",
   "id": "925a856b",
   "metadata": {},
   "source": [
    "문자열 길이 살펴보기"
   ]
  },
  {
   "cell_type": "code",
   "execution_count": 30,
   "id": "778f980f",
   "metadata": {},
   "outputs": [
    {
     "data": {
      "text/plain": [
       "count    9839.000000\n",
       "mean       12.214961\n",
       "std         6.314264\n",
       "min         1.000000\n",
       "25%         8.000000\n",
       "50%        11.000000\n",
       "75%        17.000000\n",
       "max        26.000000\n",
       "Name: review_comment_title, dtype: float64"
      ]
     },
     "execution_count": 30,
     "metadata": {},
     "output_type": "execute_result"
    }
   ],
   "source": [
    "df_toco['review_comment_title'].str.len().describe()"
   ]
  },
  {
   "cell_type": "code",
   "execution_count": 31,
   "id": "cc7725d8",
   "metadata": {},
   "outputs": [
    {
     "data": {
      "text/plain": [
       "count    9839.000000\n",
       "mean       68.987702\n",
       "std        54.112101\n",
       "min         1.000000\n",
       "25%        28.000000\n",
       "50%        53.000000\n",
       "75%        95.000000\n",
       "max       204.000000\n",
       "Name: review_comment_message, dtype: float64"
      ]
     },
     "execution_count": 31,
     "metadata": {},
     "output_type": "execute_result"
    }
   ],
   "source": [
    "df_toco['review_comment_message'].str.len().describe()"
   ]
  },
  {
   "cell_type": "markdown",
   "id": "b29b9cb4",
   "metadata": {},
   "source": [
    "남긴 날짜"
   ]
  },
  {
   "cell_type": "code",
   "execution_count": 53,
   "id": "61261e02",
   "metadata": {
    "scrolled": true
   },
   "outputs": [
    {
     "data": {
      "text/plain": [
       "56047    2017-05-16 00:00:00\n",
       "39291    2017-06-29 00:00:00\n",
       "92599    2017-09-13 00:00:00\n",
       "50256    2017-10-27 00:00:00\n",
       "13099    2017-10-29 00:00:00\n",
       "                ...         \n",
       "97524    2018-08-31 00:00:00\n",
       "17417    2018-08-31 00:00:00\n",
       "82362    2018-08-31 00:00:00\n",
       "47953    2018-08-31 00:00:00\n",
       "90695    2018-08-31 00:00:00\n",
       "Name: review_creation_date, Length: 9839, dtype: object"
      ]
     },
     "execution_count": 53,
     "metadata": {},
     "output_type": "execute_result"
    }
   ],
   "source": [
    "df_toco['review_creation_date'].sort_values()"
   ]
  },
  {
   "cell_type": "markdown",
   "id": "f40ed2d6",
   "metadata": {},
   "source": [
    "리뷰 점수 살펴보기"
   ]
  },
  {
   "cell_type": "code",
   "execution_count": 33,
   "id": "4ad957d4",
   "metadata": {},
   "outputs": [
    {
     "data": {
      "text/plain": [
       "count    9839.000000\n",
       "mean        3.837585\n",
       "std         1.556435\n",
       "min         1.000000\n",
       "25%         3.000000\n",
       "50%         5.000000\n",
       "75%         5.000000\n",
       "max         5.000000\n",
       "Name: review_score, dtype: float64"
      ]
     },
     "execution_count": 33,
     "metadata": {},
     "output_type": "execute_result"
    }
   ],
   "source": [
    "df_toco['review_score'].describe()"
   ]
  },
  {
   "cell_type": "markdown",
   "id": "54c13fab",
   "metadata": {},
   "source": [
    "### 메세지는 있지만 타이틀이 없는 것"
   ]
  },
  {
   "cell_type": "code",
   "execution_count": 34,
   "id": "c4b92e77",
   "metadata": {},
   "outputs": [],
   "source": [
    "df_txco = df[(df['review_comment_title'].isna())&(df['review_comment_message'].notna())]"
   ]
  },
  {
   "cell_type": "code",
   "execution_count": 35,
   "id": "df213e4e",
   "metadata": {},
   "outputs": [
    {
     "data": {
      "text/html": [
       "<div>\n",
       "<style scoped>\n",
       "    .dataframe tbody tr th:only-of-type {\n",
       "        vertical-align: middle;\n",
       "    }\n",
       "\n",
       "    .dataframe tbody tr th {\n",
       "        vertical-align: top;\n",
       "    }\n",
       "\n",
       "    .dataframe thead th {\n",
       "        text-align: right;\n",
       "    }\n",
       "</style>\n",
       "<table border=\"1\" class=\"dataframe\">\n",
       "  <thead>\n",
       "    <tr style=\"text-align: right;\">\n",
       "      <th></th>\n",
       "      <th>review_id</th>\n",
       "      <th>order_id</th>\n",
       "      <th>review_score</th>\n",
       "      <th>review_comment_title</th>\n",
       "      <th>review_comment_message</th>\n",
       "      <th>review_creation_date</th>\n",
       "      <th>review_answer_timestamp</th>\n",
       "    </tr>\n",
       "  </thead>\n",
       "  <tbody>\n",
       "    <tr>\n",
       "      <th>3</th>\n",
       "      <td>e64fb393e7b32834bb789ff8bb30750e</td>\n",
       "      <td>658677c97b385a9be170737859d3511b</td>\n",
       "      <td>5</td>\n",
       "      <td>NaN</td>\n",
       "      <td>Recebi bem antes do prazo estipulado.</td>\n",
       "      <td>2017-04-21 00:00:00</td>\n",
       "      <td>2017-04-21 22:02:06</td>\n",
       "    </tr>\n",
       "    <tr>\n",
       "      <th>4</th>\n",
       "      <td>f7c4243c7fe1938f181bec41a392bdeb</td>\n",
       "      <td>8e6bfb81e283fa7e4f11123a3fb894f1</td>\n",
       "      <td>5</td>\n",
       "      <td>NaN</td>\n",
       "      <td>Parabéns lojas lannister adorei comprar pela I...</td>\n",
       "      <td>2018-03-01 00:00:00</td>\n",
       "      <td>2018-03-02 10:26:53</td>\n",
       "    </tr>\n",
       "    <tr>\n",
       "      <th>12</th>\n",
       "      <td>4b49719c8a200003f700d3d986ea1a19</td>\n",
       "      <td>9d6f15f95d01e79bd1349cc208361f09</td>\n",
       "      <td>4</td>\n",
       "      <td>NaN</td>\n",
       "      <td>Mas um pouco ,travando...pelo valor ta Boa.\\r\\n</td>\n",
       "      <td>2018-02-16 00:00:00</td>\n",
       "      <td>2018-02-20 10:52:22</td>\n",
       "    </tr>\n",
       "    <tr>\n",
       "      <th>16</th>\n",
       "      <td>9314d6f9799f5bfba510cc7bcd468c01</td>\n",
       "      <td>0dacf04c5ad59fd5a0cc1faa07c34e39</td>\n",
       "      <td>2</td>\n",
       "      <td>NaN</td>\n",
       "      <td>GOSTARIA DE SABER O QUE HOUVE, SEMPRE RECEBI E...</td>\n",
       "      <td>2018-01-18 00:00:00</td>\n",
       "      <td>2018-01-20 21:25:45</td>\n",
       "    </tr>\n",
       "    <tr>\n",
       "      <th>24</th>\n",
       "      <td>0e0190b9db53b689b285d3f3916f8441</td>\n",
       "      <td>79832b7cb59ac6f887088ffd686e1d5e</td>\n",
       "      <td>5</td>\n",
       "      <td>NaN</td>\n",
       "      <td>obrigado pela atençao amim dispensada</td>\n",
       "      <td>2017-12-01 00:00:00</td>\n",
       "      <td>2017-12-09 22:58:58</td>\n",
       "    </tr>\n",
       "  </tbody>\n",
       "</table>\n",
       "</div>"
      ],
      "text/plain": [
       "                           review_id                          order_id  \\\n",
       "3   e64fb393e7b32834bb789ff8bb30750e  658677c97b385a9be170737859d3511b   \n",
       "4   f7c4243c7fe1938f181bec41a392bdeb  8e6bfb81e283fa7e4f11123a3fb894f1   \n",
       "12  4b49719c8a200003f700d3d986ea1a19  9d6f15f95d01e79bd1349cc208361f09   \n",
       "16  9314d6f9799f5bfba510cc7bcd468c01  0dacf04c5ad59fd5a0cc1faa07c34e39   \n",
       "24  0e0190b9db53b689b285d3f3916f8441  79832b7cb59ac6f887088ffd686e1d5e   \n",
       "\n",
       "    review_score review_comment_title  \\\n",
       "3              5                  NaN   \n",
       "4              5                  NaN   \n",
       "12             4                  NaN   \n",
       "16             2                  NaN   \n",
       "24             5                  NaN   \n",
       "\n",
       "                               review_comment_message review_creation_date  \\\n",
       "3               Recebi bem antes do prazo estipulado.  2017-04-21 00:00:00   \n",
       "4   Parabéns lojas lannister adorei comprar pela I...  2018-03-01 00:00:00   \n",
       "12    Mas um pouco ,travando...pelo valor ta Boa.\\r\\n  2018-02-16 00:00:00   \n",
       "16  GOSTARIA DE SABER O QUE HOUVE, SEMPRE RECEBI E...  2018-01-18 00:00:00   \n",
       "24              obrigado pela atençao amim dispensada  2017-12-01 00:00:00   \n",
       "\n",
       "   review_answer_timestamp  \n",
       "3      2017-04-21 22:02:06  \n",
       "4      2018-03-02 10:26:53  \n",
       "12     2018-02-20 10:52:22  \n",
       "16     2018-01-20 21:25:45  \n",
       "24     2017-12-09 22:58:58  "
      ]
     },
     "execution_count": 35,
     "metadata": {},
     "output_type": "execute_result"
    }
   ],
   "source": [
    "df_txco.head()"
   ]
  },
  {
   "cell_type": "code",
   "execution_count": 36,
   "id": "e23a2ca7",
   "metadata": {},
   "outputs": [
    {
     "data": {
      "text/plain": [
       "(31138, 7)"
      ]
     },
     "execution_count": 36,
     "metadata": {},
     "output_type": "execute_result"
    }
   ],
   "source": [
    "df_txco.shape"
   ]
  },
  {
   "cell_type": "markdown",
   "id": "478e0387",
   "metadata": {},
   "source": [
    "문자열 길이 살펴보기"
   ]
  },
  {
   "cell_type": "code",
   "execution_count": 38,
   "id": "b98254e2",
   "metadata": {},
   "outputs": [
    {
     "data": {
      "text/plain": [
       "count    31138.000000\n",
       "mean        68.527073\n",
       "std         53.766268\n",
       "min          1.000000\n",
       "25%         28.000000\n",
       "50%         53.000000\n",
       "75%         94.000000\n",
       "max        208.000000\n",
       "Name: review_comment_message, dtype: float64"
      ]
     },
     "execution_count": 38,
     "metadata": {},
     "output_type": "execute_result"
    }
   ],
   "source": [
    "df_txco['review_comment_message'].str.len().describe()"
   ]
  },
  {
   "cell_type": "markdown",
   "id": "9c7856a4",
   "metadata": {},
   "source": [
    "남긴 날짜 보기"
   ]
  },
  {
   "cell_type": "code",
   "execution_count": 52,
   "id": "f6f01558",
   "metadata": {
    "scrolled": true
   },
   "outputs": [
    {
     "data": {
      "text/plain": [
       "70906    2016-10-02 00:00:00\n",
       "37547    2016-10-06 00:00:00\n",
       "5503     2016-10-09 00:00:00\n",
       "41042    2016-10-15 00:00:00\n",
       "28075    2016-10-16 01:00:00\n",
       "                ...         \n",
       "30370    2018-08-31 00:00:00\n",
       "79007    2018-08-31 00:00:00\n",
       "22684    2018-08-31 00:00:00\n",
       "62350    2018-08-31 00:00:00\n",
       "85806    2018-08-31 00:00:00\n",
       "Name: review_creation_date, Length: 31138, dtype: object"
      ]
     },
     "execution_count": 52,
     "metadata": {},
     "output_type": "execute_result"
    }
   ],
   "source": [
    "df_txco['review_creation_date'].sort_values()"
   ]
  },
  {
   "cell_type": "markdown",
   "id": "c10932fc",
   "metadata": {},
   "source": [
    "리뷰 점수 살펴보기"
   ]
  },
  {
   "cell_type": "code",
   "execution_count": 40,
   "id": "c167dbb6",
   "metadata": {},
   "outputs": [
    {
     "data": {
      "text/plain": [
       "count    31138.000000\n",
       "mean         3.616867\n",
       "std          1.630052\n",
       "min          1.000000\n",
       "25%          2.000000\n",
       "50%          4.000000\n",
       "75%          5.000000\n",
       "max          5.000000\n",
       "Name: review_score, dtype: float64"
      ]
     },
     "execution_count": 40,
     "metadata": {},
     "output_type": "execute_result"
    }
   ],
   "source": [
    "df_txco['review_score'].describe()"
   ]
  },
  {
   "cell_type": "markdown",
   "id": "3adf793f",
   "metadata": {},
   "source": [
    "### 제목은 없지만 메세지는 있는 것"
   ]
  },
  {
   "cell_type": "code",
   "execution_count": 41,
   "id": "e590fa83",
   "metadata": {},
   "outputs": [],
   "source": [
    "df_tocx = df[(df['review_comment_title'].notna())&(df['review_comment_message'].isna())]"
   ]
  },
  {
   "cell_type": "code",
   "execution_count": 42,
   "id": "1476b3fe",
   "metadata": {},
   "outputs": [
    {
     "data": {
      "text/html": [
       "<div>\n",
       "<style scoped>\n",
       "    .dataframe tbody tr th:only-of-type {\n",
       "        vertical-align: middle;\n",
       "    }\n",
       "\n",
       "    .dataframe tbody tr th {\n",
       "        vertical-align: top;\n",
       "    }\n",
       "\n",
       "    .dataframe thead th {\n",
       "        text-align: right;\n",
       "    }\n",
       "</style>\n",
       "<table border=\"1\" class=\"dataframe\">\n",
       "  <thead>\n",
       "    <tr style=\"text-align: right;\">\n",
       "      <th></th>\n",
       "      <th>review_id</th>\n",
       "      <th>order_id</th>\n",
       "      <th>review_score</th>\n",
       "      <th>review_comment_title</th>\n",
       "      <th>review_comment_message</th>\n",
       "      <th>review_creation_date</th>\n",
       "      <th>review_answer_timestamp</th>\n",
       "    </tr>\n",
       "  </thead>\n",
       "  <tbody>\n",
       "    <tr>\n",
       "      <th>53</th>\n",
       "      <td>1edd1a85161468a77e5fcb165be9b294</td>\n",
       "      <td>d8e17cc85323061493b16b68a130bcff</td>\n",
       "      <td>5</td>\n",
       "      <td>Ótimo</td>\n",
       "      <td>NaN</td>\n",
       "      <td>2018-06-02 00:00:00</td>\n",
       "      <td>2018-06-02 23:15:37</td>\n",
       "    </tr>\n",
       "    <tr>\n",
       "      <th>104</th>\n",
       "      <td>352609f0f2d34ce5d3b8de817ee948d5</td>\n",
       "      <td>96b947c986b42f213c9e6b8ccccedb89</td>\n",
       "      <td>3</td>\n",
       "      <td>Não recebi o produto.</td>\n",
       "      <td>NaN</td>\n",
       "      <td>2018-08-25 00:00:00</td>\n",
       "      <td>2018-08-25 20:53:41</td>\n",
       "    </tr>\n",
       "    <tr>\n",
       "      <th>220</th>\n",
       "      <td>a89a2b0c2014bc49a0f87f1eedb7b269</td>\n",
       "      <td>22b1eef278d4416c1e867a55d1c39fea</td>\n",
       "      <td>5</td>\n",
       "      <td>Entrega antes do previsto</td>\n",
       "      <td>NaN</td>\n",
       "      <td>2018-05-26 00:00:00</td>\n",
       "      <td>2018-05-28 22:46:27</td>\n",
       "    </tr>\n",
       "    <tr>\n",
       "      <th>225</th>\n",
       "      <td>cdc5c81bd9377ccbf9cb95f05648c31b</td>\n",
       "      <td>18956b40b774d6384c8539cd61784bd7</td>\n",
       "      <td>5</td>\n",
       "      <td>Recomendo</td>\n",
       "      <td>NaN</td>\n",
       "      <td>2018-06-22 00:00:00</td>\n",
       "      <td>2018-06-24 23:07:08</td>\n",
       "    </tr>\n",
       "    <tr>\n",
       "      <th>495</th>\n",
       "      <td>b50001aa0bbd7557c4ad80eee167a2a1</td>\n",
       "      <td>daece90b61801c766fe21e0922574566</td>\n",
       "      <td>5</td>\n",
       "      <td>Ótimo</td>\n",
       "      <td>NaN</td>\n",
       "      <td>2018-05-05 00:00:00</td>\n",
       "      <td>2018-05-07 17:12:36</td>\n",
       "    </tr>\n",
       "  </tbody>\n",
       "</table>\n",
       "</div>"
      ],
      "text/plain": [
       "                            review_id                          order_id  \\\n",
       "53   1edd1a85161468a77e5fcb165be9b294  d8e17cc85323061493b16b68a130bcff   \n",
       "104  352609f0f2d34ce5d3b8de817ee948d5  96b947c986b42f213c9e6b8ccccedb89   \n",
       "220  a89a2b0c2014bc49a0f87f1eedb7b269  22b1eef278d4416c1e867a55d1c39fea   \n",
       "225  cdc5c81bd9377ccbf9cb95f05648c31b  18956b40b774d6384c8539cd61784bd7   \n",
       "495  b50001aa0bbd7557c4ad80eee167a2a1  daece90b61801c766fe21e0922574566   \n",
       "\n",
       "     review_score       review_comment_title review_comment_message  \\\n",
       "53              5                      Ótimo                    NaN   \n",
       "104             3      Não recebi o produto.                    NaN   \n",
       "220             5  Entrega antes do previsto                    NaN   \n",
       "225             5                  Recomendo                    NaN   \n",
       "495             5                     Ótimo                     NaN   \n",
       "\n",
       "    review_creation_date review_answer_timestamp  \n",
       "53   2018-06-02 00:00:00     2018-06-02 23:15:37  \n",
       "104  2018-08-25 00:00:00     2018-08-25 20:53:41  \n",
       "220  2018-05-26 00:00:00     2018-05-28 22:46:27  \n",
       "225  2018-06-22 00:00:00     2018-06-24 23:07:08  \n",
       "495  2018-05-05 00:00:00     2018-05-07 17:12:36  "
      ]
     },
     "execution_count": 42,
     "metadata": {},
     "output_type": "execute_result"
    }
   ],
   "source": [
    "df_tocx.head()"
   ]
  },
  {
   "cell_type": "code",
   "execution_count": 43,
   "id": "dfa9d328",
   "metadata": {},
   "outputs": [
    {
     "data": {
      "text/plain": [
       "(1729, 7)"
      ]
     },
     "execution_count": 43,
     "metadata": {},
     "output_type": "execute_result"
    }
   ],
   "source": [
    "df_tocx.shape"
   ]
  },
  {
   "cell_type": "markdown",
   "id": "bd8b6c5a",
   "metadata": {},
   "source": [
    "문자열 길이 살펴보기"
   ]
  },
  {
   "cell_type": "code",
   "execution_count": 46,
   "id": "e0416f6c",
   "metadata": {},
   "outputs": [
    {
     "data": {
      "text/plain": [
       "count    1729.000000\n",
       "mean       10.408907\n",
       "std         6.191013\n",
       "min         1.000000\n",
       "25%         5.000000\n",
       "50%         9.000000\n",
       "75%        15.000000\n",
       "max        25.000000\n",
       "Name: review_comment_title, dtype: float64"
      ]
     },
     "execution_count": 46,
     "metadata": {},
     "output_type": "execute_result"
    }
   ],
   "source": [
    "df_tocx['review_comment_title'].str.len().describe()"
   ]
  },
  {
   "cell_type": "markdown",
   "id": "4f9df197",
   "metadata": {},
   "source": [
    "리뷰 남긴 날짜 살펴보기"
   ]
  },
  {
   "cell_type": "code",
   "execution_count": 54,
   "id": "0ddd6a7e",
   "metadata": {
    "scrolled": true
   },
   "outputs": [
    {
     "data": {
      "text/plain": [
       "56519    2017-09-01 00:00:00\n",
       "94448    2017-12-16 00:00:00\n",
       "48187    2017-12-30 00:00:00\n",
       "40419    2018-02-09 00:00:00\n",
       "82548    2018-03-21 00:00:00\n",
       "                ...         \n",
       "89956    2018-08-31 00:00:00\n",
       "26818    2018-08-31 00:00:00\n",
       "6015     2018-08-31 00:00:00\n",
       "65726    2018-08-31 00:00:00\n",
       "10286    2018-08-31 00:00:00\n",
       "Name: review_creation_date, Length: 1729, dtype: object"
      ]
     },
     "execution_count": 54,
     "metadata": {},
     "output_type": "execute_result"
    }
   ],
   "source": [
    "df_tocx['review_creation_date'].sort_values()"
   ]
  },
  {
   "cell_type": "markdown",
   "id": "893bc342",
   "metadata": {},
   "source": [
    "리뷰 점수 살펴보기"
   ]
  },
  {
   "cell_type": "code",
   "execution_count": 48,
   "id": "c8170621",
   "metadata": {},
   "outputs": [
    {
     "data": {
      "text/plain": [
       "count    1729.000000\n",
       "mean        4.495662\n",
       "std         1.001797\n",
       "min         1.000000\n",
       "25%         4.000000\n",
       "50%         5.000000\n",
       "75%         5.000000\n",
       "max         5.000000\n",
       "Name: review_score, dtype: float64"
      ]
     },
     "execution_count": 48,
     "metadata": {},
     "output_type": "execute_result"
    }
   ],
   "source": [
    "df_tocx['review_score'].describe()"
   ]
  },
  {
   "cell_type": "markdown",
   "id": "767a28cd",
   "metadata": {
    "heading_collapsed": true
   },
   "source": [
    "# score data\n",
    "## eda"
   ]
  },
  {
   "cell_type": "code",
   "execution_count": 24,
   "id": "92db1cdd",
   "metadata": {
    "hidden": true
   },
   "outputs": [
    {
     "data": {
      "text/html": [
       "<div>\n",
       "<style scoped>\n",
       "    .dataframe tbody tr th:only-of-type {\n",
       "        vertical-align: middle;\n",
       "    }\n",
       "\n",
       "    .dataframe tbody tr th {\n",
       "        vertical-align: top;\n",
       "    }\n",
       "\n",
       "    .dataframe thead th {\n",
       "        text-align: right;\n",
       "    }\n",
       "</style>\n",
       "<table border=\"1\" class=\"dataframe\">\n",
       "  <thead>\n",
       "    <tr style=\"text-align: right;\">\n",
       "      <th></th>\n",
       "      <th>review_score</th>\n",
       "    </tr>\n",
       "  </thead>\n",
       "  <tbody>\n",
       "    <tr>\n",
       "      <th>count</th>\n",
       "      <td>99224.000000</td>\n",
       "    </tr>\n",
       "    <tr>\n",
       "      <th>mean</th>\n",
       "      <td>4.086421</td>\n",
       "    </tr>\n",
       "    <tr>\n",
       "      <th>std</th>\n",
       "      <td>1.347579</td>\n",
       "    </tr>\n",
       "    <tr>\n",
       "      <th>min</th>\n",
       "      <td>1.000000</td>\n",
       "    </tr>\n",
       "    <tr>\n",
       "      <th>25%</th>\n",
       "      <td>4.000000</td>\n",
       "    </tr>\n",
       "    <tr>\n",
       "      <th>50%</th>\n",
       "      <td>5.000000</td>\n",
       "    </tr>\n",
       "    <tr>\n",
       "      <th>75%</th>\n",
       "      <td>5.000000</td>\n",
       "    </tr>\n",
       "    <tr>\n",
       "      <th>max</th>\n",
       "      <td>5.000000</td>\n",
       "    </tr>\n",
       "  </tbody>\n",
       "</table>\n",
       "</div>"
      ],
      "text/plain": [
       "       review_score\n",
       "count  99224.000000\n",
       "mean       4.086421\n",
       "std        1.347579\n",
       "min        1.000000\n",
       "25%        4.000000\n",
       "50%        5.000000\n",
       "75%        5.000000\n",
       "max        5.000000"
      ]
     },
     "execution_count": 24,
     "metadata": {},
     "output_type": "execute_result"
    }
   ],
   "source": [
    "df.describe()"
   ]
  },
  {
   "cell_type": "markdown",
   "id": "c4f5fbd7",
   "metadata": {
    "hidden": true
   },
   "source": [
    "### score lineplot with date"
   ]
  },
  {
   "cell_type": "code",
   "execution_count": 32,
   "id": "7c0c9df1",
   "metadata": {
    "hidden": true
   },
   "outputs": [
    {
     "data": {
      "text/plain": [
       "<AxesSubplot:xlabel='review_creation_date', ylabel='review_score'>"
      ]
     },
     "execution_count": 32,
     "metadata": {},
     "output_type": "execute_result"
    },
    {
     "data": {
      "image/png": "[encoded data removed]",
      "text/plain": [
       "<Figure size 1080x432 with 1 Axes>"
      ]
     },
     "metadata": {},
     "output_type": "display_data"
    }
   ],
   "source": [
    "sns.set(rc = {'figure.figsize':(15,6)})\n",
    "sns.lineplot(y = df['review_score'], x = df['review_creation_date'])"
   ]
  },
  {
   "cell_type": "markdown",
   "id": "691e2dd7",
   "metadata": {
    "hidden": true
   },
   "source": [
    "### score lineplot with message"
   ]
  },
  {
   "cell_type": "code",
   "execution_count": null,
   "id": "6179baae",
   "metadata": {
    "hidden": true
   },
   "outputs": [],
   "source": [
    "sns.set(rc = {'figure.figsize':(15,6)})\n",
    "sns.lineplot(y = df['review_score'], x = df['review_creation_date'])"
   ]
  }
 ],
 "metadata": {
  "kernelspec": {
   "display_name": "Python 3 (ipykernel)",
   "language": "python",
   "name": "python3"
  },
  "language_info": {
   "codemirror_mode": {
    "name": "ipython",
    "version": 3
   },
   "file_extension": ".py",
   "mimetype": "text/x-python",
   "name": "python",
   "nbconvert_exporter": "python",
   "pygments_lexer": "ipython3",
   "version": "3.8.5"
  },
  "toc": {
   "base_numbering": 1,
   "nav_menu": {},
   "number_sections": true,
   "sideBar": true,
   "skip_h1_title": false,
   "title_cell": "Table of Contents",
   "title_sidebar": "Contents",
   "toc_cell": false,
   "toc_position": {},
   "toc_section_display": true,
   "toc_window_display": false
  }
 },
 "nbformat": 4,
 "nbformat_minor": 5
}
