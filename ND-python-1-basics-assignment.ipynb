{
  "nbformat": 4,
  "nbformat_minor": 0,
  "metadata": {
    "colab": {
      "name": "ND-파이썬기초-과제4.ipynb의 사본",
      "provenance": [],
      "collapsed_sections": [],
      "include_colab_link": true
    },
    "kernelspec": {
      "display_name": "Python 3",
      "language": "python",
      "name": "python3"
    },
    "language_info": {
      "codemirror_mode": {
        "name": "ipython",
        "version": 3
      },
      "file_extension": ".py",
      "mimetype": "text/x-python",
      "name": "python",
      "nbconvert_exporter": "python",
      "pygments_lexer": "ipython3",
      "version": "3.7.6"
    },
    "toc": {
      "base_numbering": 1,
      "nav_menu": {},
      "number_sections": true,
      "sideBar": true,
      "skip_h1_title": false,
      "title_cell": "Table of Contents",
      "title_sidebar": "Contents",
      "toc_cell": false,
      "toc_position": {},
      "toc_section_display": true,
      "toc_window_display": false
    },
    "varInspector": {
      "cols": {
        "lenName": 16,
        "lenType": 16,
        "lenVar": 40
      },
      "kernels_config": {
        "python": {
          "delete_cmd_postfix": "",
          "delete_cmd_prefix": "del ",
          "library": "var_list.py",
          "varRefreshCmd": "print(var_dic_list())"
        },
        "r": {
          "delete_cmd_postfix": ") ",
          "delete_cmd_prefix": "rm(",
          "library": "var_list.r",
          "varRefreshCmd": "cat(var_dic_list()) "
        }
      },
      "types_to_exclude": [
        "module",
        "function",
        "builtin_function_or_method",
        "instance",
        "_Feature"
      ],
      "window_display": false
    }
  },
  "cells": [
    {
      "cell_type": "markdown",
      "metadata": {
        "id": "view-in-github",
        "colab_type": "text"
      },
      "source": [
        "<a href=\"https://colab.research.google.com/github/Angela-Park-JE/TIL_in_NanoDegree/blob/main/ND-python-1-basics-assignment.ipynb\" target=\"_parent\"><img src=\"https://colab.research.google.com/assets/colab-badge.svg\" alt=\"Open In Colab\"/></a>"
      ]
    },
    {
      "cell_type": "code",
      "metadata": {
        "id": "N8M7HpmHjkqy",
        "scrolled": true,
        "colab": {
          "base_uri": "https://localhost:8080/"
        },
        "outputId": "ff692d56-8d69-4768-d551-75dc90e0c92c"
      },
      "source": [
        "import pandas as pd\n",
        "import seaborn as sns\n",
        "%matplotlib inline\n",
        "df = sns.load_dataset(\"tips\")\n",
        "df.shape"
      ],
      "execution_count": 2,
      "outputs": [
        {
          "output_type": "execute_result",
          "data": {
            "text/plain": [
              "(244, 7)"
            ]
          },
          "metadata": {},
          "execution_count": 2
        }
      ]
    },
    {
      "cell_type": "code",
      "metadata": {
        "id": "KIEewnW3jkq5",
        "colab": {
          "base_uri": "https://localhost:8080/",
          "height": 206
        },
        "outputId": "14a12ec6-473a-4d59-c953-ccb07392ea11"
      },
      "source": [
        "df.head()"
      ],
      "execution_count": null,
      "outputs": [
        {
          "output_type": "execute_result",
          "data": {
            "text/html": [
              "<div>\n",
              "<style scoped>\n",
              "    .dataframe tbody tr th:only-of-type {\n",
              "        vertical-align: middle;\n",
              "    }\n",
              "\n",
              "    .dataframe tbody tr th {\n",
              "        vertical-align: top;\n",
              "    }\n",
              "\n",
              "    .dataframe thead th {\n",
              "        text-align: right;\n",
              "    }\n",
              "</style>\n",
              "<table border=\"1\" class=\"dataframe\">\n",
              "  <thead>\n",
              "    <tr style=\"text-align: right;\">\n",
              "      <th></th>\n",
              "      <th>total_bill</th>\n",
              "      <th>tip</th>\n",
              "      <th>sex</th>\n",
              "      <th>smoker</th>\n",
              "      <th>day</th>\n",
              "      <th>time</th>\n",
              "      <th>size</th>\n",
              "    </tr>\n",
              "  </thead>\n",
              "  <tbody>\n",
              "    <tr>\n",
              "      <th>0</th>\n",
              "      <td>16.99</td>\n",
              "      <td>1.01</td>\n",
              "      <td>Female</td>\n",
              "      <td>No</td>\n",
              "      <td>Sun</td>\n",
              "      <td>Dinner</td>\n",
              "      <td>2</td>\n",
              "    </tr>\n",
              "    <tr>\n",
              "      <th>1</th>\n",
              "      <td>10.34</td>\n",
              "      <td>1.66</td>\n",
              "      <td>Male</td>\n",
              "      <td>No</td>\n",
              "      <td>Sun</td>\n",
              "      <td>Dinner</td>\n",
              "      <td>3</td>\n",
              "    </tr>\n",
              "    <tr>\n",
              "      <th>2</th>\n",
              "      <td>21.01</td>\n",
              "      <td>3.50</td>\n",
              "      <td>Male</td>\n",
              "      <td>No</td>\n",
              "      <td>Sun</td>\n",
              "      <td>Dinner</td>\n",
              "      <td>3</td>\n",
              "    </tr>\n",
              "    <tr>\n",
              "      <th>3</th>\n",
              "      <td>23.68</td>\n",
              "      <td>3.31</td>\n",
              "      <td>Male</td>\n",
              "      <td>No</td>\n",
              "      <td>Sun</td>\n",
              "      <td>Dinner</td>\n",
              "      <td>2</td>\n",
              "    </tr>\n",
              "    <tr>\n",
              "      <th>4</th>\n",
              "      <td>24.59</td>\n",
              "      <td>3.61</td>\n",
              "      <td>Female</td>\n",
              "      <td>No</td>\n",
              "      <td>Sun</td>\n",
              "      <td>Dinner</td>\n",
              "      <td>4</td>\n",
              "    </tr>\n",
              "  </tbody>\n",
              "</table>\n",
              "</div>"
            ],
            "text/plain": [
              "   total_bill   tip     sex smoker  day    time  size\n",
              "0       16.99  1.01  Female     No  Sun  Dinner     2\n",
              "1       10.34  1.66    Male     No  Sun  Dinner     3\n",
              "2       21.01  3.50    Male     No  Sun  Dinner     3\n",
              "3       23.68  3.31    Male     No  Sun  Dinner     2\n",
              "4       24.59  3.61  Female     No  Sun  Dinner     4"
            ]
          },
          "metadata": {},
          "execution_count": 2
        }
      ]
    },
    {
      "cell_type": "code",
      "metadata": {
        "colab": {
          "base_uri": "https://localhost:8080/",
          "height": 206
        },
        "id": "z0AMVre1OUXr",
        "outputId": "40b7ae45-484d-4ad1-c18f-c070f7d4dc09"
      },
      "source": [
        "df.sample(5)"
      ],
      "execution_count": null,
      "outputs": [
        {
          "output_type": "execute_result",
          "data": {
            "text/html": [
              "<div>\n",
              "<style scoped>\n",
              "    .dataframe tbody tr th:only-of-type {\n",
              "        vertical-align: middle;\n",
              "    }\n",
              "\n",
              "    .dataframe tbody tr th {\n",
              "        vertical-align: top;\n",
              "    }\n",
              "\n",
              "    .dataframe thead th {\n",
              "        text-align: right;\n",
              "    }\n",
              "</style>\n",
              "<table border=\"1\" class=\"dataframe\">\n",
              "  <thead>\n",
              "    <tr style=\"text-align: right;\">\n",
              "      <th></th>\n",
              "      <th>total_bill</th>\n",
              "      <th>tip</th>\n",
              "      <th>sex</th>\n",
              "      <th>smoker</th>\n",
              "      <th>day</th>\n",
              "      <th>time</th>\n",
              "      <th>size</th>\n",
              "    </tr>\n",
              "  </thead>\n",
              "  <tbody>\n",
              "    <tr>\n",
              "      <th>175</th>\n",
              "      <td>32.90</td>\n",
              "      <td>3.11</td>\n",
              "      <td>Male</td>\n",
              "      <td>Yes</td>\n",
              "      <td>Sun</td>\n",
              "      <td>Dinner</td>\n",
              "      <td>2</td>\n",
              "    </tr>\n",
              "    <tr>\n",
              "      <th>138</th>\n",
              "      <td>16.00</td>\n",
              "      <td>2.00</td>\n",
              "      <td>Male</td>\n",
              "      <td>Yes</td>\n",
              "      <td>Thur</td>\n",
              "      <td>Lunch</td>\n",
              "      <td>2</td>\n",
              "    </tr>\n",
              "    <tr>\n",
              "      <th>37</th>\n",
              "      <td>16.93</td>\n",
              "      <td>3.07</td>\n",
              "      <td>Female</td>\n",
              "      <td>No</td>\n",
              "      <td>Sat</td>\n",
              "      <td>Dinner</td>\n",
              "      <td>3</td>\n",
              "    </tr>\n",
              "    <tr>\n",
              "      <th>238</th>\n",
              "      <td>35.83</td>\n",
              "      <td>4.67</td>\n",
              "      <td>Female</td>\n",
              "      <td>No</td>\n",
              "      <td>Sat</td>\n",
              "      <td>Dinner</td>\n",
              "      <td>3</td>\n",
              "    </tr>\n",
              "    <tr>\n",
              "      <th>202</th>\n",
              "      <td>13.00</td>\n",
              "      <td>2.00</td>\n",
              "      <td>Female</td>\n",
              "      <td>Yes</td>\n",
              "      <td>Thur</td>\n",
              "      <td>Lunch</td>\n",
              "      <td>2</td>\n",
              "    </tr>\n",
              "  </tbody>\n",
              "</table>\n",
              "</div>"
            ],
            "text/plain": [
              "     total_bill   tip     sex smoker   day    time  size\n",
              "175       32.90  3.11    Male    Yes   Sun  Dinner     2\n",
              "138       16.00  2.00    Male    Yes  Thur   Lunch     2\n",
              "37        16.93  3.07  Female     No   Sat  Dinner     3\n",
              "238       35.83  4.67  Female     No   Sat  Dinner     3\n",
              "202       13.00  2.00  Female    Yes  Thur   Lunch     2"
            ]
          },
          "metadata": {},
          "execution_count": 3
        }
      ]
    },
    {
      "cell_type": "markdown",
      "metadata": {
        "id": "rO3Hkc7Wjkq8"
      },
      "source": [
        "## 1. total_bill 을 size 로 나눠서 1인당 가격을 구한결과를 \"per_bill\"이라는 컬럼에 담아주세요. 그리고 per_bill 컬럼에 담긴 값을 describe() 합니다.\n",
        "```\n",
        "count    244.00000\n",
        "mean       7.88823\n",
        "std        2.91435\n",
        "min        2.87500\n",
        "25%        5.80250\n",
        "50%        7.25500\n",
        "75%        9.39000\n",
        "max       20.27500\n",
        "Name: per_bill, dtype: float64\n",
        "```"
      ]
    },
    {
      "cell_type": "code",
      "metadata": {
        "id": "WBz11hYHjkq9",
        "colab": {
          "base_uri": "https://localhost:8080/"
        },
        "outputId": "df0dd38a-5cd2-4dfb-f32b-08df191de77a"
      },
      "source": [
        "df[\"total_bill\"]/df[\"size\"]"
      ],
      "execution_count": null,
      "outputs": [
        {
          "output_type": "execute_result",
          "data": {
            "text/plain": [
              "0       8.495000\n",
              "1       3.446667\n",
              "2       7.003333\n",
              "3      11.840000\n",
              "4       6.147500\n",
              "         ...    \n",
              "239     9.676667\n",
              "240    13.590000\n",
              "241    11.335000\n",
              "242     8.910000\n",
              "243     9.390000\n",
              "Length: 244, dtype: float64"
            ]
          },
          "metadata": {},
          "execution_count": 16
        }
      ]
    },
    {
      "cell_type": "code",
      "metadata": {
        "colab": {
          "base_uri": "https://localhost:8080/"
        },
        "id": "jrrnEV5bSD8p",
        "outputId": "55d03fcf-c217-4869-a2d0-964814f29a56"
      },
      "source": [
        "df[\"per_bill\"] = df[\"total_bill\"]/df[\"size\"]\n",
        "per_bill.describe()\n",
        "\n",
        "# 컬럼 만들어서 담는법을 까먹다니..."
      ],
      "execution_count": null,
      "outputs": [
        {
          "output_type": "execute_result",
          "data": {
            "text/plain": [
              "count    244.00000\n",
              "mean       7.88823\n",
              "std        2.91435\n",
              "min        2.87500\n",
              "25%        5.80250\n",
              "50%        7.25500\n",
              "75%        9.39000\n",
              "max       20.27500\n",
              "dtype: float64"
            ]
          },
          "metadata": {},
          "execution_count": 18
        }
      ]
    },
    {
      "cell_type": "markdown",
      "metadata": {
        "id": "WieIrbw-jkrA"
      },
      "source": [
        "## 2. groupby 를 사용해서 \"time\", \"smoker\" 를 그룹화 하고 \"per_bill\" 의 요약값을 구합니다. \n",
        "* 다음의 결과가 출력되도록 합니다.\n",
        "<table border=\"1\" class=\"dataframe\">\n",
        "  <thead>\n",
        "    <tr style=\"text-align: right;\">\n",
        "      <th></th>\n",
        "      <th></th>\n",
        "      <th>count</th>\n",
        "      <th>mean</th>\n",
        "      <th>std</th>\n",
        "      <th>min</th>\n",
        "      <th>25%</th>\n",
        "      <th>50%</th>\n",
        "      <th>75%</th>\n",
        "      <th>max</th>\n",
        "    </tr>\n",
        "    <tr>\n",
        "      <th>time</th>\n",
        "      <th>smoker</th>\n",
        "      <th></th>\n",
        "      <th></th>\n",
        "      <th></th>\n",
        "      <th></th>\n",
        "      <th></th>\n",
        "      <th></th>\n",
        "      <th></th>\n",
        "      <th></th>\n",
        "    </tr>\n",
        "  </thead>\n",
        "  <tbody>\n",
        "    <tr>\n",
        "      <th rowspan=\"2\" valign=\"top\">Lunch</th>\n",
        "      <th>Yes</th>\n",
        "      <td>23.0</td>\n",
        "      <td>7.939420</td>\n",
        "      <td>2.805047</td>\n",
        "      <td>5.045000</td>\n",
        "      <td>6.303333</td>\n",
        "      <td>6.755000</td>\n",
        "      <td>8.4350</td>\n",
        "      <td>16.340</td>\n",
        "    </tr>\n",
        "    <tr>\n",
        "      <th>No</th>\n",
        "      <td>45.0</td>\n",
        "      <td>6.996419</td>\n",
        "      <td>2.082856</td>\n",
        "      <td>3.755000</td>\n",
        "      <td>5.585000</td>\n",
        "      <td>6.580000</td>\n",
        "      <td>8.3300</td>\n",
        "      <td>12.355</td>\n",
        "    </tr>\n",
        "    <tr>\n",
        "      <th rowspan=\"2\" valign=\"top\">Dinner</th>\n",
        "      <th>Yes</th>\n",
        "      <td>70.0</td>\n",
        "      <td>9.003529</td>\n",
        "      <td>3.839788</td>\n",
        "      <td>2.875000</td>\n",
        "      <td>6.060500</td>\n",
        "      <td>7.875000</td>\n",
        "      <td>11.1725</td>\n",
        "      <td>20.275</td>\n",
        "    </tr>\n",
        "    <tr>\n",
        "      <th>No</th>\n",
        "      <td>106.0</td>\n",
        "      <td>7.519203</td>\n",
        "      <td>2.278733</td>\n",
        "      <td>3.443333</td>\n",
        "      <td>5.705833</td>\n",
        "      <td>7.019167</td>\n",
        "      <td>9.0050</td>\n",
        "      <td>13.205</td>\n",
        "    </tr>\n",
        "  </tbody>\n",
        "</table>"
      ]
    },
    {
      "cell_type": "code",
      "metadata": {
        "id": "ThdDKOU2jkrB",
        "colab": {
          "base_uri": "https://localhost:8080/",
          "height": 206
        },
        "outputId": "b05d6614-1610-4aab-a13e-f686eb00718a"
      },
      "source": [
        "# 결과를 group_per 변수에 담고 group_per 변수를 출력해 주세요.\n",
        "\n",
        "group_per = pd.DataFrame()\n",
        "group_per = df.groupby([\"time\",\"smoker\"])[\"per_bill\"].describe(include=\"all\")\n",
        "group_per"
      ],
      "execution_count": null,
      "outputs": [
        {
          "output_type": "execute_result",
          "data": {
            "text/html": [
              "<div>\n",
              "<style scoped>\n",
              "    .dataframe tbody tr th:only-of-type {\n",
              "        vertical-align: middle;\n",
              "    }\n",
              "\n",
              "    .dataframe tbody tr th {\n",
              "        vertical-align: top;\n",
              "    }\n",
              "\n",
              "    .dataframe thead th {\n",
              "        text-align: right;\n",
              "    }\n",
              "</style>\n",
              "<table border=\"1\" class=\"dataframe\">\n",
              "  <thead>\n",
              "    <tr style=\"text-align: right;\">\n",
              "      <th></th>\n",
              "      <th></th>\n",
              "      <th>count</th>\n",
              "      <th>mean</th>\n",
              "      <th>std</th>\n",
              "      <th>min</th>\n",
              "      <th>25%</th>\n",
              "      <th>50%</th>\n",
              "      <th>75%</th>\n",
              "      <th>max</th>\n",
              "    </tr>\n",
              "    <tr>\n",
              "      <th>time</th>\n",
              "      <th>smoker</th>\n",
              "      <th></th>\n",
              "      <th></th>\n",
              "      <th></th>\n",
              "      <th></th>\n",
              "      <th></th>\n",
              "      <th></th>\n",
              "      <th></th>\n",
              "      <th></th>\n",
              "    </tr>\n",
              "  </thead>\n",
              "  <tbody>\n",
              "    <tr>\n",
              "      <th rowspan=\"2\" valign=\"top\">Lunch</th>\n",
              "      <th>Yes</th>\n",
              "      <td>23.0</td>\n",
              "      <td>7.939420</td>\n",
              "      <td>2.805047</td>\n",
              "      <td>5.045000</td>\n",
              "      <td>6.303333</td>\n",
              "      <td>6.755000</td>\n",
              "      <td>8.4350</td>\n",
              "      <td>16.340</td>\n",
              "    </tr>\n",
              "    <tr>\n",
              "      <th>No</th>\n",
              "      <td>45.0</td>\n",
              "      <td>6.996419</td>\n",
              "      <td>2.082856</td>\n",
              "      <td>3.755000</td>\n",
              "      <td>5.585000</td>\n",
              "      <td>6.580000</td>\n",
              "      <td>8.3300</td>\n",
              "      <td>12.355</td>\n",
              "    </tr>\n",
              "    <tr>\n",
              "      <th rowspan=\"2\" valign=\"top\">Dinner</th>\n",
              "      <th>Yes</th>\n",
              "      <td>70.0</td>\n",
              "      <td>9.003529</td>\n",
              "      <td>3.839788</td>\n",
              "      <td>2.875000</td>\n",
              "      <td>6.060500</td>\n",
              "      <td>7.875000</td>\n",
              "      <td>11.1725</td>\n",
              "      <td>20.275</td>\n",
              "    </tr>\n",
              "    <tr>\n",
              "      <th>No</th>\n",
              "      <td>106.0</td>\n",
              "      <td>7.519203</td>\n",
              "      <td>2.278733</td>\n",
              "      <td>3.443333</td>\n",
              "      <td>5.705833</td>\n",
              "      <td>7.019167</td>\n",
              "      <td>9.0050</td>\n",
              "      <td>13.205</td>\n",
              "    </tr>\n",
              "  </tbody>\n",
              "</table>\n",
              "</div>"
            ],
            "text/plain": [
              "               count      mean       std  ...       50%      75%     max\n",
              "time   smoker                             ...                           \n",
              "Lunch  Yes      23.0  7.939420  2.805047  ...  6.755000   8.4350  16.340\n",
              "       No       45.0  6.996419  2.082856  ...  6.580000   8.3300  12.355\n",
              "Dinner Yes      70.0  9.003529  3.839788  ...  7.875000  11.1725  20.275\n",
              "       No      106.0  7.519203  2.278733  ...  7.019167   9.0050  13.205\n",
              "\n",
              "[4 rows x 8 columns]"
            ]
          },
          "metadata": {},
          "execution_count": 21
        }
      ]
    },
    {
      "cell_type": "markdown",
      "metadata": {
        "id": "JQDzC31zjkrF"
      },
      "source": [
        "## 3. 위 문제의 결과로 group_per 라고 저장된 데이터 프레임에서  Lunch 데이터만 가져옵니다.\n",
        "* 아래의 결과가 출력되도록 합니다.\n",
        "<table border=\"1\" class=\"dataframe\">\n",
        "  <thead>\n",
        "    <tr style=\"text-align: right;\">\n",
        "      <th></th>\n",
        "      <th>count</th>\n",
        "      <th>mean</th>\n",
        "      <th>std</th>\n",
        "      <th>min</th>\n",
        "      <th>25%</th>\n",
        "      <th>50%</th>\n",
        "      <th>75%</th>\n",
        "      <th>max</th>\n",
        "    </tr>\n",
        "    <tr>\n",
        "      <th>smoker</th>\n",
        "      <th></th>\n",
        "      <th></th>\n",
        "      <th></th>\n",
        "      <th></th>\n",
        "      <th></th>\n",
        "      <th></th>\n",
        "      <th></th>\n",
        "      <th></th>\n",
        "    </tr>\n",
        "  </thead>\n",
        "  <tbody>\n",
        "    <tr>\n",
        "      <th>Yes</th>\n",
        "      <td>23.0</td>\n",
        "      <td>7.939420</td>\n",
        "      <td>2.805047</td>\n",
        "      <td>5.045</td>\n",
        "      <td>6.303333</td>\n",
        "      <td>6.755</td>\n",
        "      <td>8.435</td>\n",
        "      <td>16.340</td>\n",
        "    </tr>\n",
        "    <tr>\n",
        "      <th>No</th>\n",
        "      <td>45.0</td>\n",
        "      <td>6.996419</td>\n",
        "      <td>2.082856</td>\n",
        "      <td>3.755</td>\n",
        "      <td>5.585000</td>\n",
        "      <td>6.580</td>\n",
        "      <td>8.330</td>\n",
        "      <td>12.355</td>\n",
        "    </tr>\n",
        "  </tbody>\n",
        "</table>"
      ]
    },
    {
      "cell_type": "code",
      "metadata": {
        "id": "JbB6LrSZjkrG",
        "colab": {
          "base_uri": "https://localhost:8080/",
          "height": 143
        },
        "outputId": "9b238082-7707-439e-b9d8-75cba192f1a1"
      },
      "source": [
        "group_per.loc[\"Lunch\"]"
      ],
      "execution_count": null,
      "outputs": [
        {
          "output_type": "execute_result",
          "data": {
            "text/html": [
              "<div>\n",
              "<style scoped>\n",
              "    .dataframe tbody tr th:only-of-type {\n",
              "        vertical-align: middle;\n",
              "    }\n",
              "\n",
              "    .dataframe tbody tr th {\n",
              "        vertical-align: top;\n",
              "    }\n",
              "\n",
              "    .dataframe thead th {\n",
              "        text-align: right;\n",
              "    }\n",
              "</style>\n",
              "<table border=\"1\" class=\"dataframe\">\n",
              "  <thead>\n",
              "    <tr style=\"text-align: right;\">\n",
              "      <th></th>\n",
              "      <th>count</th>\n",
              "      <th>mean</th>\n",
              "      <th>std</th>\n",
              "      <th>min</th>\n",
              "      <th>25%</th>\n",
              "      <th>50%</th>\n",
              "      <th>75%</th>\n",
              "      <th>max</th>\n",
              "    </tr>\n",
              "    <tr>\n",
              "      <th>smoker</th>\n",
              "      <th></th>\n",
              "      <th></th>\n",
              "      <th></th>\n",
              "      <th></th>\n",
              "      <th></th>\n",
              "      <th></th>\n",
              "      <th></th>\n",
              "      <th></th>\n",
              "    </tr>\n",
              "  </thead>\n",
              "  <tbody>\n",
              "    <tr>\n",
              "      <th>Yes</th>\n",
              "      <td>23.0</td>\n",
              "      <td>7.939420</td>\n",
              "      <td>2.805047</td>\n",
              "      <td>5.045</td>\n",
              "      <td>6.303333</td>\n",
              "      <td>6.755</td>\n",
              "      <td>8.435</td>\n",
              "      <td>16.340</td>\n",
              "    </tr>\n",
              "    <tr>\n",
              "      <th>No</th>\n",
              "      <td>45.0</td>\n",
              "      <td>6.996419</td>\n",
              "      <td>2.082856</td>\n",
              "      <td>3.755</td>\n",
              "      <td>5.585000</td>\n",
              "      <td>6.580</td>\n",
              "      <td>8.330</td>\n",
              "      <td>12.355</td>\n",
              "    </tr>\n",
              "  </tbody>\n",
              "</table>\n",
              "</div>"
            ],
            "text/plain": [
              "        count      mean       std    min       25%    50%    75%     max\n",
              "smoker                                                                  \n",
              "Yes      23.0  7.939420  2.805047  5.045  6.303333  6.755  8.435  16.340\n",
              "No       45.0  6.996419  2.082856  3.755  5.585000  6.580  8.330  12.355"
            ]
          },
          "metadata": {},
          "execution_count": 26
        }
      ]
    },
    {
      "cell_type": "markdown",
      "metadata": {
        "id": "80oPFxrOjkrJ"
      },
      "source": [
        "## 4. \"day\", \"smoker\" 로 그룹화 하고 \"size\" 의 \"count\", \"mean\" 값을 구해주세요. \n",
        "* 다음의 결과가 출력되도록 합니다.\n",
        "<table border=\"1\" class=\"dataframe\">\n",
        "  <thead>\n",
        "    <tr style=\"text-align: right;\">\n",
        "      <th></th>\n",
        "      <th></th>\n",
        "      <th>count</th>\n",
        "      <th>mean</th>\n",
        "    </tr>\n",
        "    <tr>\n",
        "      <th>day</th>\n",
        "      <th>smoker</th>\n",
        "      <th></th>\n",
        "      <th></th>\n",
        "    </tr>\n",
        "  </thead>\n",
        "  <tbody>\n",
        "    <tr>\n",
        "      <th rowspan=\"2\" valign=\"top\">Thur</th>\n",
        "      <th>Yes</th>\n",
        "      <td>17</td>\n",
        "      <td>2.352941</td>\n",
        "    </tr>\n",
        "    <tr>\n",
        "      <th>No</th>\n",
        "      <td>45</td>\n",
        "      <td>2.488889</td>\n",
        "    </tr>\n",
        "    <tr>\n",
        "      <th rowspan=\"2\" valign=\"top\">Fri</th>\n",
        "      <th>Yes</th>\n",
        "      <td>15</td>\n",
        "      <td>2.066667</td>\n",
        "    </tr>\n",
        "    <tr>\n",
        "      <th>No</th>\n",
        "      <td>4</td>\n",
        "      <td>2.250000</td>\n",
        "    </tr>\n",
        "    <tr>\n",
        "      <th rowspan=\"2\" valign=\"top\">Sat</th>\n",
        "      <th>Yes</th>\n",
        "      <td>42</td>\n",
        "      <td>2.476190</td>\n",
        "    </tr>\n",
        "    <tr>\n",
        "      <th>No</th>\n",
        "      <td>45</td>\n",
        "      <td>2.555556</td>\n",
        "    </tr>\n",
        "    <tr>\n",
        "      <th rowspan=\"2\" valign=\"top\">Sun</th>\n",
        "      <th>Yes</th>\n",
        "      <td>19</td>\n",
        "      <td>2.578947</td>\n",
        "    </tr>\n",
        "    <tr>\n",
        "      <th>No</th>\n",
        "      <td>57</td>\n",
        "      <td>2.929825</td>\n",
        "    </tr>\n",
        "  </tbody>\n",
        "</table>"
      ]
    },
    {
      "cell_type": "code",
      "metadata": {
        "id": "fzIP6CgPjkrK",
        "colab": {
          "base_uri": "https://localhost:8080/",
          "height": 332
        },
        "outputId": "7b58d928-3189-4b66-d607-79a9e5e90cb8"
      },
      "source": [
        "df.groupby([\"day\",\"smoker\"])[\"size\"].agg(['count','mean'])"
      ],
      "execution_count": null,
      "outputs": [
        {
          "output_type": "execute_result",
          "data": {
            "text/html": [
              "<div>\n",
              "<style scoped>\n",
              "    .dataframe tbody tr th:only-of-type {\n",
              "        vertical-align: middle;\n",
              "    }\n",
              "\n",
              "    .dataframe tbody tr th {\n",
              "        vertical-align: top;\n",
              "    }\n",
              "\n",
              "    .dataframe thead th {\n",
              "        text-align: right;\n",
              "    }\n",
              "</style>\n",
              "<table border=\"1\" class=\"dataframe\">\n",
              "  <thead>\n",
              "    <tr style=\"text-align: right;\">\n",
              "      <th></th>\n",
              "      <th></th>\n",
              "      <th>count</th>\n",
              "      <th>mean</th>\n",
              "    </tr>\n",
              "    <tr>\n",
              "      <th>day</th>\n",
              "      <th>smoker</th>\n",
              "      <th></th>\n",
              "      <th></th>\n",
              "    </tr>\n",
              "  </thead>\n",
              "  <tbody>\n",
              "    <tr>\n",
              "      <th rowspan=\"2\" valign=\"top\">Thur</th>\n",
              "      <th>Yes</th>\n",
              "      <td>17</td>\n",
              "      <td>2.352941</td>\n",
              "    </tr>\n",
              "    <tr>\n",
              "      <th>No</th>\n",
              "      <td>45</td>\n",
              "      <td>2.488889</td>\n",
              "    </tr>\n",
              "    <tr>\n",
              "      <th rowspan=\"2\" valign=\"top\">Fri</th>\n",
              "      <th>Yes</th>\n",
              "      <td>15</td>\n",
              "      <td>2.066667</td>\n",
              "    </tr>\n",
              "    <tr>\n",
              "      <th>No</th>\n",
              "      <td>4</td>\n",
              "      <td>2.250000</td>\n",
              "    </tr>\n",
              "    <tr>\n",
              "      <th rowspan=\"2\" valign=\"top\">Sat</th>\n",
              "      <th>Yes</th>\n",
              "      <td>42</td>\n",
              "      <td>2.476190</td>\n",
              "    </tr>\n",
              "    <tr>\n",
              "      <th>No</th>\n",
              "      <td>45</td>\n",
              "      <td>2.555556</td>\n",
              "    </tr>\n",
              "    <tr>\n",
              "      <th rowspan=\"2\" valign=\"top\">Sun</th>\n",
              "      <th>Yes</th>\n",
              "      <td>19</td>\n",
              "      <td>2.578947</td>\n",
              "    </tr>\n",
              "    <tr>\n",
              "      <th>No</th>\n",
              "      <td>57</td>\n",
              "      <td>2.929825</td>\n",
              "    </tr>\n",
              "  </tbody>\n",
              "</table>\n",
              "</div>"
            ],
            "text/plain": [
              "             count      mean\n",
              "day  smoker                 \n",
              "Thur Yes        17  2.352941\n",
              "     No         45  2.488889\n",
              "Fri  Yes        15  2.066667\n",
              "     No          4  2.250000\n",
              "Sat  Yes        42  2.476190\n",
              "     No         45  2.555556\n",
              "Sun  Yes        19  2.578947\n",
              "     No         57  2.929825"
            ]
          },
          "metadata": {},
          "execution_count": 30
        }
      ]
    },
    {
      "cell_type": "code",
      "metadata": {
        "colab": {
          "base_uri": "https://localhost:8080/",
          "height": 112
        },
        "id": "9FDV0O9-VqkQ",
        "outputId": "4cf0fbfa-d461-4959-8b56-ca9d6cf2a8bf"
      },
      "source": [
        "# pd.pivot_table(data=df, index =[\"day\", \"smoker\"], values = \"size\").agg(['count','mean'])\n",
        "# 모야아아아아ㅏㅏ count는 smoker로 나뉜것만 나왔당모야앙"
      ],
      "execution_count": null,
      "outputs": [
        {
          "output_type": "execute_result",
          "data": {
            "text/html": [
              "<div>\n",
              "<style scoped>\n",
              "    .dataframe tbody tr th:only-of-type {\n",
              "        vertical-align: middle;\n",
              "    }\n",
              "\n",
              "    .dataframe tbody tr th {\n",
              "        vertical-align: top;\n",
              "    }\n",
              "\n",
              "    .dataframe thead th {\n",
              "        text-align: right;\n",
              "    }\n",
              "</style>\n",
              "<table border=\"1\" class=\"dataframe\">\n",
              "  <thead>\n",
              "    <tr style=\"text-align: right;\">\n",
              "      <th></th>\n",
              "      <th>size</th>\n",
              "    </tr>\n",
              "  </thead>\n",
              "  <tbody>\n",
              "    <tr>\n",
              "      <th>count</th>\n",
              "      <td>8.000000</td>\n",
              "    </tr>\n",
              "    <tr>\n",
              "      <th>mean</th>\n",
              "      <td>2.462377</td>\n",
              "    </tr>\n",
              "  </tbody>\n",
              "</table>\n",
              "</div>"
            ],
            "text/plain": [
              "           size\n",
              "count  8.000000\n",
              "mean   2.462377"
            ]
          },
          "metadata": {},
          "execution_count": 31
        }
      ]
    },
    {
      "cell_type": "markdown",
      "metadata": {
        "id": "VoJrvG5GUFEc"
      },
      "source": [
        "\n",
        "\n",
        "---\n",
        "\n"
      ]
    },
    {
      "cell_type": "code",
      "metadata": {
        "id": "uz2TT6jmjkrN",
        "colab": {
          "base_uri": "https://localhost:8080/",
          "height": 225
        },
        "outputId": "8f8420f1-9591-4b4c-df06-d64f223ec03a"
      },
      "source": [
        "# 데이터를 로드해 주세요.\n",
        "mpg = sns.load_dataset(\"mpg\")\n",
        "print(mpg.shape)\n",
        "mpg.head()"
      ],
      "execution_count": 3,
      "outputs": [
        {
          "output_type": "stream",
          "name": "stdout",
          "text": [
            "(398, 9)\n"
          ]
        },
        {
          "output_type": "execute_result",
          "data": {
            "text/html": [
              "<div>\n",
              "<style scoped>\n",
              "    .dataframe tbody tr th:only-of-type {\n",
              "        vertical-align: middle;\n",
              "    }\n",
              "\n",
              "    .dataframe tbody tr th {\n",
              "        vertical-align: top;\n",
              "    }\n",
              "\n",
              "    .dataframe thead th {\n",
              "        text-align: right;\n",
              "    }\n",
              "</style>\n",
              "<table border=\"1\" class=\"dataframe\">\n",
              "  <thead>\n",
              "    <tr style=\"text-align: right;\">\n",
              "      <th></th>\n",
              "      <th>mpg</th>\n",
              "      <th>cylinders</th>\n",
              "      <th>displacement</th>\n",
              "      <th>horsepower</th>\n",
              "      <th>weight</th>\n",
              "      <th>acceleration</th>\n",
              "      <th>model_year</th>\n",
              "      <th>origin</th>\n",
              "      <th>name</th>\n",
              "    </tr>\n",
              "  </thead>\n",
              "  <tbody>\n",
              "    <tr>\n",
              "      <th>0</th>\n",
              "      <td>18.0</td>\n",
              "      <td>8</td>\n",
              "      <td>307.0</td>\n",
              "      <td>130.0</td>\n",
              "      <td>3504</td>\n",
              "      <td>12.0</td>\n",
              "      <td>70</td>\n",
              "      <td>usa</td>\n",
              "      <td>chevrolet chevelle malibu</td>\n",
              "    </tr>\n",
              "    <tr>\n",
              "      <th>1</th>\n",
              "      <td>15.0</td>\n",
              "      <td>8</td>\n",
              "      <td>350.0</td>\n",
              "      <td>165.0</td>\n",
              "      <td>3693</td>\n",
              "      <td>11.5</td>\n",
              "      <td>70</td>\n",
              "      <td>usa</td>\n",
              "      <td>buick skylark 320</td>\n",
              "    </tr>\n",
              "    <tr>\n",
              "      <th>2</th>\n",
              "      <td>18.0</td>\n",
              "      <td>8</td>\n",
              "      <td>318.0</td>\n",
              "      <td>150.0</td>\n",
              "      <td>3436</td>\n",
              "      <td>11.0</td>\n",
              "      <td>70</td>\n",
              "      <td>usa</td>\n",
              "      <td>plymouth satellite</td>\n",
              "    </tr>\n",
              "    <tr>\n",
              "      <th>3</th>\n",
              "      <td>16.0</td>\n",
              "      <td>8</td>\n",
              "      <td>304.0</td>\n",
              "      <td>150.0</td>\n",
              "      <td>3433</td>\n",
              "      <td>12.0</td>\n",
              "      <td>70</td>\n",
              "      <td>usa</td>\n",
              "      <td>amc rebel sst</td>\n",
              "    </tr>\n",
              "    <tr>\n",
              "      <th>4</th>\n",
              "      <td>17.0</td>\n",
              "      <td>8</td>\n",
              "      <td>302.0</td>\n",
              "      <td>140.0</td>\n",
              "      <td>3449</td>\n",
              "      <td>10.5</td>\n",
              "      <td>70</td>\n",
              "      <td>usa</td>\n",
              "      <td>ford torino</td>\n",
              "    </tr>\n",
              "  </tbody>\n",
              "</table>\n",
              "</div>"
            ],
            "text/plain": [
              "    mpg  cylinders  displacement  ...  model_year  origin                       name\n",
              "0  18.0          8         307.0  ...          70     usa  chevrolet chevelle malibu\n",
              "1  15.0          8         350.0  ...          70     usa          buick skylark 320\n",
              "2  18.0          8         318.0  ...          70     usa         plymouth satellite\n",
              "3  16.0          8         304.0  ...          70     usa              amc rebel sst\n",
              "4  17.0          8         302.0  ...          70     usa                ford torino\n",
              "\n",
              "[5 rows x 9 columns]"
            ]
          },
          "metadata": {},
          "execution_count": 3
        }
      ]
    },
    {
      "cell_type": "markdown",
      "metadata": {
        "id": "IJ6KQlvajkrQ"
      },
      "source": [
        "## 5. horsepower 가 결측치가 아닌 것만 가져와서 origin 으로 그룹화 하고 weight 의 평균값을 구합니다.\n",
        "* 다음의 결과가 출력되도록 합니다.\n",
        "```\n",
        "origin\n",
        "europe    2433.470588\n",
        "japan     2221.227848\n",
        "usa       3372.489796\n",
        "Name: weight, dtype: float64\n",
        "```"
      ]
    },
    {
      "cell_type": "code",
      "metadata": {
        "id": "c-EKizCBjkrR"
      },
      "source": [
        "#1. horsepower가 결측치가 아닌것 구하기\n",
        "# 결측치 행 제거\n",
        "# df.dropna(subset=[\"컬럼\"],inplace=True)\n",
        "\n",
        "mpg.dropna(subset=[\"horsepower\"], inplace =True)"
      ],
      "execution_count": 4,
      "outputs": []
    },
    {
      "cell_type": "code",
      "metadata": {
        "colab": {
          "base_uri": "https://localhost:8080/"
        },
        "id": "jLSIx19bYc0J",
        "outputId": "03c84393-672b-43f4-d8a1-232d898dee45"
      },
      "source": [
        "#2. origin으로 그룹화하기\n",
        "mpg.groupby([\"origin\"])[\"weight\"].mean()"
      ],
      "execution_count": 5,
      "outputs": [
        {
          "output_type": "execute_result",
          "data": {
            "text/plain": [
              "origin\n",
              "europe    2433.470588\n",
              "japan     2221.227848\n",
              "usa       3372.489796\n",
              "Name: weight, dtype: float64"
            ]
          },
          "metadata": {},
          "execution_count": 5
        }
      ]
    },
    {
      "cell_type": "markdown",
      "metadata": {
        "id": "zioNe-XFjkrY"
      },
      "source": [
        "## 6. name 에 audi 가 들어가는 데이터의 horsepower 컬럼의 요약값을 구합니다.\n",
        "* 다음의 결과가 출력되도록 합니다.\n",
        "```\n",
        "count      7.000000\n",
        "mean      86.714286\n",
        "std       11.842217\n",
        "min       67.000000\n",
        "25%       80.500000\n",
        "50%       90.000000\n",
        "75%       93.000000\n",
        "max      103.000000\n",
        "Name: horsepower, dtype: float64\n",
        "```"
      ]
    },
    {
      "cell_type": "code",
      "metadata": {
        "id": "giIXzGxLjkrZ",
        "colab": {
          "base_uri": "https://localhost:8080/"
        },
        "outputId": "8cc236ee-6144-4e78-9111-27962c9080da"
      },
      "source": [
        "# name에 audi가 들어가는 데이터\n",
        "# https://yganalyst.github.io/data_handling/memo_9/#5-%ED%8F%AC%ED%95%A8%EA%B8%80%EC%9E%90-%EC%9D%B8%EC%8B%9D-strcontains\n",
        "# df[df['법정동명'].str.contains(\"강서구\")].head()\n",
        "\n",
        "mpg[mpg['name'].str.contains(\"audi\")][\"horsepower\"].describe()"
      ],
      "execution_count": 13,
      "outputs": [
        {
          "output_type": "execute_result",
          "data": {
            "text/plain": [
              "count      7.000000\n",
              "mean      86.714286\n",
              "std       11.842217\n",
              "min       67.000000\n",
              "25%       80.500000\n",
              "50%       90.000000\n",
              "75%       93.000000\n",
              "max      103.000000\n",
              "Name: horsepower, dtype: float64"
            ]
          },
          "metadata": {},
          "execution_count": 13
        }
      ]
    },
    {
      "cell_type": "markdown",
      "metadata": {
        "id": "PupbygD6jkrc"
      },
      "source": [
        "## 7. name 에 diesel 이 들어가는 데이터에서 \"origin\", \"model_year\" 로 그룹화 하고 \"horsepower\" 의 평균을 구합니다.\n",
        "* 다음의 결과가 출력되도록 합니다.\n",
        "\n",
        "```\n",
        "origin  model_year\n",
        "europe  78            48.000000\n",
        "        80            54.333333\n",
        "        81            78.000000\n",
        "usa     82            85.000000\n",
        "Name: horsepower, dtype: float64\n",
        "```"
      ]
    },
    {
      "cell_type": "code",
      "metadata": {
        "id": "sJM9XxXvjkrd",
        "colab": {
          "base_uri": "https://localhost:8080/"
        },
        "outputId": "cdf7c205-9ae6-431b-e45d-d9fb302d97df"
      },
      "source": [
        "mpg[mpg[\"name\"].str.contains(\"diesel\")].groupby([\"origin\", \"model_year\"])[\"horsepower\"].mean()"
      ],
      "execution_count": 14,
      "outputs": [
        {
          "output_type": "execute_result",
          "data": {
            "text/plain": [
              "origin  model_year\n",
              "europe  78            48.000000\n",
              "        80            54.333333\n",
              "        81            78.000000\n",
              "usa     82            85.000000\n",
              "Name: horsepower, dtype: float64"
            ]
          },
          "metadata": {},
          "execution_count": 14
        }
      ]
    },
    {
      "cell_type": "markdown",
      "metadata": {
        "id": "9JzT4yfTjkrg"
      },
      "source": [
        "## 8. \"model_year\"가 75보다 작은 값을 가지는 데이터프레임에서 pivot_table 을 사용해서 \"model_year\", \"origin\" 별  \"weight\"의 평균을 구해 다음과 같이 출력되도록 합니다.\n",
        "<table border=\"1\" class=\"dataframe\">\n",
        "  <thead>\n",
        "    <tr style=\"text-align: right;\">\n",
        "      <th>origin</th>\n",
        "      <th>europe</th>\n",
        "      <th>japan</th>\n",
        "      <th>usa</th>\n",
        "    </tr>\n",
        "    <tr>\n",
        "      <th>model_year</th>\n",
        "      <th></th>\n",
        "      <th></th>\n",
        "      <th></th>\n",
        "    </tr>\n",
        "  </thead>\n",
        "  <tbody>\n",
        "    <tr>\n",
        "      <th>70</th>\n",
        "      <td>2309.200000</td>\n",
        "      <td>2251.00</td>\n",
        "      <td>3716.500000</td>\n",
        "    </tr>\n",
        "    <tr>\n",
        "      <th>71</th>\n",
        "      <td>2024.000000</td>\n",
        "      <td>1936.00</td>\n",
        "      <td>3401.600000</td>\n",
        "    </tr>\n",
        "    <tr>\n",
        "      <th>72</th>\n",
        "      <td>2573.200000</td>\n",
        "      <td>2300.40</td>\n",
        "      <td>3682.666667</td>\n",
        "    </tr>\n",
        "    <tr>\n",
        "      <th>73</th>\n",
        "      <td>2335.714286</td>\n",
        "      <td>2397.25</td>\n",
        "      <td>3821.448276</td>\n",
        "    </tr>\n",
        "    <tr>\n",
        "      <th>74</th>\n",
        "      <td>2139.333333</td>\n",
        "      <td>2053.00</td>\n",
        "      <td>3503.333333</td>\n",
        "    </tr>\n",
        "  </tbody>\n",
        "</table>"
      ]
    },
    {
      "cell_type": "code",
      "metadata": {
        "id": "F8GGn_RAjkrg",
        "colab": {
          "base_uri": "https://localhost:8080/",
          "height": 551
        },
        "outputId": "73a803a3-e266-4cb8-8703-cb00e6f56e33"
      },
      "source": [
        "# pd.pivot_table(data=df, index =\"alive\", values = \"age\") \n",
        "\n",
        "pd.pivot_table(data=mpg[mpg[\"model_year\"] < 75], index = [\"model_year\", \"origin\"], values = \"weight\")\n",
        "# 웅?"
      ],
      "execution_count": 17,
      "outputs": [
        {
          "output_type": "execute_result",
          "data": {
            "text/html": [
              "<div>\n",
              "<style scoped>\n",
              "    .dataframe tbody tr th:only-of-type {\n",
              "        vertical-align: middle;\n",
              "    }\n",
              "\n",
              "    .dataframe tbody tr th {\n",
              "        vertical-align: top;\n",
              "    }\n",
              "\n",
              "    .dataframe thead th {\n",
              "        text-align: right;\n",
              "    }\n",
              "</style>\n",
              "<table border=\"1\" class=\"dataframe\">\n",
              "  <thead>\n",
              "    <tr style=\"text-align: right;\">\n",
              "      <th></th>\n",
              "      <th></th>\n",
              "      <th>weight</th>\n",
              "    </tr>\n",
              "    <tr>\n",
              "      <th>model_year</th>\n",
              "      <th>origin</th>\n",
              "      <th></th>\n",
              "    </tr>\n",
              "  </thead>\n",
              "  <tbody>\n",
              "    <tr>\n",
              "      <th rowspan=\"3\" valign=\"top\">70</th>\n",
              "      <th>europe</th>\n",
              "      <td>2309.200000</td>\n",
              "    </tr>\n",
              "    <tr>\n",
              "      <th>japan</th>\n",
              "      <td>2251.000000</td>\n",
              "    </tr>\n",
              "    <tr>\n",
              "      <th>usa</th>\n",
              "      <td>3716.500000</td>\n",
              "    </tr>\n",
              "    <tr>\n",
              "      <th rowspan=\"3\" valign=\"top\">71</th>\n",
              "      <th>europe</th>\n",
              "      <td>2024.000000</td>\n",
              "    </tr>\n",
              "    <tr>\n",
              "      <th>japan</th>\n",
              "      <td>1936.000000</td>\n",
              "    </tr>\n",
              "    <tr>\n",
              "      <th>usa</th>\n",
              "      <td>3472.947368</td>\n",
              "    </tr>\n",
              "    <tr>\n",
              "      <th rowspan=\"3\" valign=\"top\">72</th>\n",
              "      <th>europe</th>\n",
              "      <td>2573.200000</td>\n",
              "    </tr>\n",
              "    <tr>\n",
              "      <th>japan</th>\n",
              "      <td>2300.400000</td>\n",
              "    </tr>\n",
              "    <tr>\n",
              "      <th>usa</th>\n",
              "      <td>3682.666667</td>\n",
              "    </tr>\n",
              "    <tr>\n",
              "      <th rowspan=\"3\" valign=\"top\">73</th>\n",
              "      <th>europe</th>\n",
              "      <td>2335.714286</td>\n",
              "    </tr>\n",
              "    <tr>\n",
              "      <th>japan</th>\n",
              "      <td>2397.250000</td>\n",
              "    </tr>\n",
              "    <tr>\n",
              "      <th>usa</th>\n",
              "      <td>3821.448276</td>\n",
              "    </tr>\n",
              "    <tr>\n",
              "      <th rowspan=\"3\" valign=\"top\">74</th>\n",
              "      <th>europe</th>\n",
              "      <td>2139.333333</td>\n",
              "    </tr>\n",
              "    <tr>\n",
              "      <th>japan</th>\n",
              "      <td>2053.000000</td>\n",
              "    </tr>\n",
              "    <tr>\n",
              "      <th>usa</th>\n",
              "      <td>3548.214286</td>\n",
              "    </tr>\n",
              "  </tbody>\n",
              "</table>\n",
              "</div>"
            ],
            "text/plain": [
              "                        weight\n",
              "model_year origin             \n",
              "70         europe  2309.200000\n",
              "           japan   2251.000000\n",
              "           usa     3716.500000\n",
              "71         europe  2024.000000\n",
              "           japan   1936.000000\n",
              "           usa     3472.947368\n",
              "72         europe  2573.200000\n",
              "           japan   2300.400000\n",
              "           usa     3682.666667\n",
              "73         europe  2335.714286\n",
              "           japan   2397.250000\n",
              "           usa     3821.448276\n",
              "74         europe  2139.333333\n",
              "           japan   2053.000000\n",
              "           usa     3548.214286"
            ]
          },
          "metadata": {},
          "execution_count": 17
        }
      ]
    },
    {
      "cell_type": "code",
      "metadata": {
        "colab": {
          "base_uri": "https://localhost:8080/",
          "height": 238
        },
        "id": "-olNNCDwwQAw",
        "outputId": "191ce4b1-adbc-45a7-c32f-56acbbaa9ada"
      },
      "source": [
        "pd.pivot_table(data=mpg[mpg[\"model_year\"] < 75], index = [\"model_year\"], columns = [\"origin\"], values = \"weight\")"
      ],
      "execution_count": 18,
      "outputs": [
        {
          "output_type": "execute_result",
          "data": {
            "text/html": [
              "<div>\n",
              "<style scoped>\n",
              "    .dataframe tbody tr th:only-of-type {\n",
              "        vertical-align: middle;\n",
              "    }\n",
              "\n",
              "    .dataframe tbody tr th {\n",
              "        vertical-align: top;\n",
              "    }\n",
              "\n",
              "    .dataframe thead th {\n",
              "        text-align: right;\n",
              "    }\n",
              "</style>\n",
              "<table border=\"1\" class=\"dataframe\">\n",
              "  <thead>\n",
              "    <tr style=\"text-align: right;\">\n",
              "      <th>origin</th>\n",
              "      <th>europe</th>\n",
              "      <th>japan</th>\n",
              "      <th>usa</th>\n",
              "    </tr>\n",
              "    <tr>\n",
              "      <th>model_year</th>\n",
              "      <th></th>\n",
              "      <th></th>\n",
              "      <th></th>\n",
              "    </tr>\n",
              "  </thead>\n",
              "  <tbody>\n",
              "    <tr>\n",
              "      <th>70</th>\n",
              "      <td>2309.200000</td>\n",
              "      <td>2251.00</td>\n",
              "      <td>3716.500000</td>\n",
              "    </tr>\n",
              "    <tr>\n",
              "      <th>71</th>\n",
              "      <td>2024.000000</td>\n",
              "      <td>1936.00</td>\n",
              "      <td>3472.947368</td>\n",
              "    </tr>\n",
              "    <tr>\n",
              "      <th>72</th>\n",
              "      <td>2573.200000</td>\n",
              "      <td>2300.40</td>\n",
              "      <td>3682.666667</td>\n",
              "    </tr>\n",
              "    <tr>\n",
              "      <th>73</th>\n",
              "      <td>2335.714286</td>\n",
              "      <td>2397.25</td>\n",
              "      <td>3821.448276</td>\n",
              "    </tr>\n",
              "    <tr>\n",
              "      <th>74</th>\n",
              "      <td>2139.333333</td>\n",
              "      <td>2053.00</td>\n",
              "      <td>3548.214286</td>\n",
              "    </tr>\n",
              "  </tbody>\n",
              "</table>\n",
              "</div>"
            ],
            "text/plain": [
              "origin           europe    japan          usa\n",
              "model_year                                   \n",
              "70          2309.200000  2251.00  3716.500000\n",
              "71          2024.000000  1936.00  3472.947368\n",
              "72          2573.200000  2300.40  3682.666667\n",
              "73          2335.714286  2397.25  3821.448276\n",
              "74          2139.333333  2053.00  3548.214286"
            ]
          },
          "metadata": {},
          "execution_count": 18
        }
      ]
    },
    {
      "cell_type": "markdown",
      "metadata": {
        "id": "mDiB8EVZjkrj"
      },
      "source": [
        "## 9. x축에 horsepower 를 y축에 weight 를 지정하고 cylinders 에 따라 색상이 다르게 표현되도록 그래프를 그려주세요.\n",
        "<img src=\"https://i.imgur.com/bMmZ2oi.png\" width=\"400\">"
      ]
    },
    {
      "cell_type": "code",
      "metadata": {
        "id": "qzBf8bMpjkrm",
        "colab": {
          "base_uri": "https://localhost:8080/",
          "height": 297
        },
        "outputId": "149d484f-147a-4e04-b5c6-84f5b3e3f12e"
      },
      "source": [
        "sns.scatterplot(data=mpg, x = \"horsepower\", y = \"weight\", hue = \"cylinders\")"
      ],
      "execution_count": 19,
      "outputs": [
        {
          "output_type": "execute_result",
          "data": {
            "text/plain": [
              "<matplotlib.axes._subplots.AxesSubplot at 0x7fc665704b50>"
            ]
          },
          "metadata": {},
          "execution_count": 19
        },
        {
          "output_type": "display_data",
          "data": {
            "image/png": "[encoded data removed]",
            "text/plain": [
              "<Figure size 432x288 with 1 Axes>"
            ]
          },
          "metadata": {
            "needs_background": "light"
          }
        }
      ]
    },
    {
      "cell_type": "markdown",
      "metadata": {
        "id": "rbTm5-pMjkrp"
      },
      "source": [
        "## 10. 위에서 불러온 mpg 데이터를 csv 파일로 저장합니다. (제출 시 저장한 csv 파일은 제출하지 않아도 됩니다.)\n",
        "또, 인덱스 컬럼은 저장되지 않도록 합니다."
      ]
    },
    {
      "cell_type": "code",
      "metadata": {
        "id": "2i3Il6t2jkrq"
      },
      "source": [
        "# df.to_csv(\"pandas_df_20211121.csv\", index=False)\n",
        "\n",
        "# import pandas as pd\n",
        "# data = pd.read_csv(r\"Data_example.csv\")\n",
        "# selectdata = pd.DataFrame(data, columns=['Signal Name', 'Signal Value', \"Target\"])\n",
        "# selectdata.to_csv(r\"C:\\Users\\Bens\\Desktop\\V1\\Modified_data.csv\")\n",
        "# https://appia.tistory.com/219\n",
        "\n",
        "mpg.to_csv(\"mpg.csv\", index=False)"
      ],
      "execution_count": 26,
      "outputs": []
    },
    {
      "cell_type": "code",
      "metadata": {
        "id": "ECh-sNigjkrt",
        "colab": {
          "base_uri": "https://localhost:8080/",
          "height": 206
        },
        "outputId": "792f3dd6-e6a8-458c-8d90-71526279c2f2"
      },
      "source": [
        "# 제대로 저장이 되었다면 다음 형태로 파일이 불러와 집니다.\n",
        "\n",
        "data = pd.read_csv(\"mpg.csv\")\n",
        "data.head()"
      ],
      "execution_count": 28,
      "outputs": [
        {
          "output_type": "execute_result",
          "data": {
            "text/html": [
              "<div>\n",
              "<style scoped>\n",
              "    .dataframe tbody tr th:only-of-type {\n",
              "        vertical-align: middle;\n",
              "    }\n",
              "\n",
              "    .dataframe tbody tr th {\n",
              "        vertical-align: top;\n",
              "    }\n",
              "\n",
              "    .dataframe thead th {\n",
              "        text-align: right;\n",
              "    }\n",
              "</style>\n",
              "<table border=\"1\" class=\"dataframe\">\n",
              "  <thead>\n",
              "    <tr style=\"text-align: right;\">\n",
              "      <th></th>\n",
              "      <th>mpg</th>\n",
              "      <th>cylinders</th>\n",
              "      <th>displacement</th>\n",
              "      <th>horsepower</th>\n",
              "      <th>weight</th>\n",
              "      <th>acceleration</th>\n",
              "      <th>model_year</th>\n",
              "      <th>origin</th>\n",
              "      <th>name</th>\n",
              "    </tr>\n",
              "  </thead>\n",
              "  <tbody>\n",
              "    <tr>\n",
              "      <th>0</th>\n",
              "      <td>18.0</td>\n",
              "      <td>8</td>\n",
              "      <td>307.0</td>\n",
              "      <td>130.0</td>\n",
              "      <td>3504</td>\n",
              "      <td>12.0</td>\n",
              "      <td>70</td>\n",
              "      <td>usa</td>\n",
              "      <td>chevrolet chevelle malibu</td>\n",
              "    </tr>\n",
              "    <tr>\n",
              "      <th>1</th>\n",
              "      <td>15.0</td>\n",
              "      <td>8</td>\n",
              "      <td>350.0</td>\n",
              "      <td>165.0</td>\n",
              "      <td>3693</td>\n",
              "      <td>11.5</td>\n",
              "      <td>70</td>\n",
              "      <td>usa</td>\n",
              "      <td>buick skylark 320</td>\n",
              "    </tr>\n",
              "    <tr>\n",
              "      <th>2</th>\n",
              "      <td>18.0</td>\n",
              "      <td>8</td>\n",
              "      <td>318.0</td>\n",
              "      <td>150.0</td>\n",
              "      <td>3436</td>\n",
              "      <td>11.0</td>\n",
              "      <td>70</td>\n",
              "      <td>usa</td>\n",
              "      <td>plymouth satellite</td>\n",
              "    </tr>\n",
              "    <tr>\n",
              "      <th>3</th>\n",
              "      <td>16.0</td>\n",
              "      <td>8</td>\n",
              "      <td>304.0</td>\n",
              "      <td>150.0</td>\n",
              "      <td>3433</td>\n",
              "      <td>12.0</td>\n",
              "      <td>70</td>\n",
              "      <td>usa</td>\n",
              "      <td>amc rebel sst</td>\n",
              "    </tr>\n",
              "    <tr>\n",
              "      <th>4</th>\n",
              "      <td>17.0</td>\n",
              "      <td>8</td>\n",
              "      <td>302.0</td>\n",
              "      <td>140.0</td>\n",
              "      <td>3449</td>\n",
              "      <td>10.5</td>\n",
              "      <td>70</td>\n",
              "      <td>usa</td>\n",
              "      <td>ford torino</td>\n",
              "    </tr>\n",
              "  </tbody>\n",
              "</table>\n",
              "</div>"
            ],
            "text/plain": [
              "    mpg  cylinders  displacement  ...  model_year  origin                       name\n",
              "0  18.0          8         307.0  ...          70     usa  chevrolet chevelle malibu\n",
              "1  15.0          8         350.0  ...          70     usa          buick skylark 320\n",
              "2  18.0          8         318.0  ...          70     usa         plymouth satellite\n",
              "3  16.0          8         304.0  ...          70     usa              amc rebel sst\n",
              "4  17.0          8         302.0  ...          70     usa                ford torino\n",
              "\n",
              "[5 rows x 9 columns]"
            ]
          },
          "metadata": {},
          "execution_count": 28
        }
      ]
    },
    {
      "cell_type": "code",
      "metadata": {
        "id": "dSBYzltzjkrv"
      },
      "source": [
        ""
      ],
      "execution_count": null,
      "outputs": []
    }
  ]
}