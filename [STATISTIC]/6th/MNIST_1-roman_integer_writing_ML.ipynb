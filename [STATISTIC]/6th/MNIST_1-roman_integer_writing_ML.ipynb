{
 "cells": [
  {
   "cell_type": "code",
   "execution_count": 2,
   "metadata": {},
   "outputs": [
    {
     "name": "stdout",
     "output_type": "stream",
     "text": [
      "0-th update and error is 2.493259\n",
      "1-th update and error is 0.140393\n",
      "2-th update and error is 0.111070\n",
      "3-th update and error is 0.097252\n",
      "4-th update and error is 0.088757\n",
      "5-th update and error is 0.082789\n",
      "6-th update and error is 0.078272\n",
      "7-th update and error is 0.074623\n",
      "8-th update and error is 0.071575\n",
      "9-th update and error is 0.068964\n",
      "10-th update and error is 0.066679\n",
      "11-th update and error is 0.064638\n",
      "12-th update and error is 0.062764\n",
      "13-th update and error is 0.061029\n",
      "14-th update and error is 0.059438\n",
      "15-th update and error is 0.057989\n",
      "16-th update and error is 0.056659\n",
      "17-th update and error is 0.055410\n",
      "18-th update and error is 0.054226\n",
      "19-th update and error is 0.053116\n",
      "20-th update and error is 0.052078\n",
      "21-th update and error is 0.051115\n",
      "22-th update and error is 0.050219\n",
      "23-th update and error is 0.049380\n",
      "24-th update and error is 0.048594\n",
      "25-th update and error is 0.047861\n",
      "26-th update and error is 0.047177\n",
      "27-th update and error is 0.046535\n",
      "28-th update and error is 0.045926\n",
      "29-th update and error is 0.045344\n",
      "30-th update and error is 0.044788\n",
      "31-th update and error is 0.044255\n",
      "32-th update and error is 0.043743\n",
      "33-th update and error is 0.043247\n",
      "34-th update and error is 0.042765\n",
      "35-th update and error is 0.042297\n",
      "36-th update and error is 0.041846\n",
      "37-th update and error is 0.041415\n",
      "38-th update and error is 0.041004\n",
      "39-th update and error is 0.040610\n",
      "40-th update and error is 0.040229\n",
      "41-th update and error is 0.039857\n",
      "42-th update and error is 0.039490\n",
      "43-th update and error is 0.039132\n",
      "44-th update and error is 0.038783\n",
      "45-th update and error is 0.038442\n",
      "46-th update and error is 0.038112\n",
      "47-th update and error is 0.037790\n",
      "48-th update and error is 0.037479\n",
      "49-th update and error is 0.037179\n",
      "50-th update and error is 0.036889\n",
      "The learning is finished\n"
     ]
    }
   ],
   "source": [
    "# learning phase\n",
    "import numpy as np\n",
    "import pickle \n",
    "def mnist_load(filename):\n",
    "    Images = open(filename+'images.bin','rb')\n",
    "    Labels = open(filename+'labels.bin','rb')\n",
    "    X = pickle.load(Images)/255.0\n",
    "    T = pickle.load(Labels)\n",
    "    Images.close()\n",
    "    Labels.close()\n",
    "    return (X,T)\n",
    "def sigmoid(x):\n",
    "    return 1.0/(1.0+np.exp(-x))\n",
    "def d_sigmoid(u):\n",
    "    return np.exp(-u)/(1.0+np.exp(-u))**2\n",
    "(X,T) = mnist_load('train')\n",
    "input_node = 28*28\n",
    "hidden_node = 30\n",
    "output_node = 10\n",
    "np.random.seed(10)\n",
    "w = 0.1*(2*np.random.random((hidden_node,input_node+1))-1)\n",
    "v = 0.1*(2*np.random.random((output_node,hidden_node+1))-1)\n",
    "xl = np.ones((input_node+1,1))\n",
    "z = np.ones((hidden_node+1,1))\n",
    "y = np.ones((output_node,1))\n",
    "eta = 0.05;MaxIter = 50;Tol=1.0e-10;Resid=Tol*2; \n",
    "Iter=1;E1 = 0\n",
    "for m in range(len(X)):\n",
    "    xl[1:,0] = X[m]\n",
    "    uh = np.dot(w,xl)\n",
    "    z[1:,:] = sigmoid(uh)\n",
    "    uo = np.dot(v,z)\n",
    "    y = sigmoid(uo)\n",
    "    t=np.zeros([output_node,1])\n",
    "    t[T[m]] = 1.0\n",
    "    E1 = E1+np.sum((y-t)**2)\n",
    "E1=E1/len(T)\n",
    "print('%i-th update and error is %f'%(Iter-1,E1))\n",
    "while Resid>=Tol and Iter<=MaxIter:\n",
    "    for m in range(len(X)):\n",
    "        xl[1:,0] = X[m]\n",
    "        uh = np.dot(w,xl)\n",
    "        z[1:,:] = sigmoid(uh)\n",
    "        uo = np.dot(v,z)\n",
    "        y = sigmoid(uo)\n",
    "        t=np.zeros([output_node,1])\n",
    "        t[T[m]] = 1.0\n",
    "        del_k = (y-t)*d_sigmoid(uo)\n",
    "        dEdv = np.dot(del_k,z.T)\n",
    "        del_j = d_sigmoid(uh)*np.dot(v[:,1:].T,del_k)\n",
    "        dEdw = np.dot(del_j,xl.T)\n",
    "        v = v-eta*dEdv\n",
    "        w = w-eta*dEdw\n",
    "    E2 = 0;\n",
    "    for m in range(len(T)):\n",
    "        xl[1:,0] = X[m]\n",
    "        uh = np.dot(w,xl)\n",
    "        z[1:,:] = sigmoid(uh)\n",
    "        uo = np.dot(v,z)\n",
    "        y = sigmoid(uo)\n",
    "        t=np.zeros([output_node,1])\n",
    "        t[T[m]] = 1.0\n",
    "        E2 = E2+np.sum((y-t)**2)\n",
    "    E2 = E2/len(T)\n",
    "    Resid = abs(E2-E1)\n",
    "    E1=E2\n",
    "    print(\"%i-th update and error is %f\" %(Iter,E1))\n",
    "    Iter+=1\n",
    "print(\"The learning is finished\")\n",
    "np.savez('learningdata', w=w,v=v)"
   ]
  },
  {
   "cell_type": "markdown",
   "metadata": {},
   "source": [
    "비용함수 에러는 이렇게 relative error로 정의하게 될거고.\n",
    "\n",
    "전체 값이 1이 되지 않도록 한다고 한다."
   ]
  },
  {
   "cell_type": "markdown",
   "metadata": {},
   "source": [
    "여기서 사용한건 sigmoid 함수로, train data는 binary 파일에 들어있다.\n",
    "\n",
    "실제로 best fitted line 을 만드는 중이다.\n",
    "\n",
    "0을 0으로 인식할 수 있는 모범답안을 만들어 두는 중인 것이다."
   ]
  },
  {
   "cell_type": "markdown",
   "metadata": {},
   "source": [
    "0의 모양은 0이고, 1의 모양은 1이라고 여러 셋을 준다. 얘가 알아서 답 모형을 만든다.\n",
    "\n",
    "이렇게 답을 정해두는 모형(시그모이드를 사용하여 학습한 모형)에서, 학습시킨것과 전혀 다른걸 넣으면 어떻게 될까?\n",
    "\n",
    "비용함수(거리제곱합, MSE)가 최소가 되는 것으로 결과값이 도출된다. 즉, 0~9 중 가장 가까워 보이는 것을 내놓을 것이다.\n",
    "\n",
    "지도와 비지도 상관없이, ML에서 가능한건 여기까지이다. 0~9 라는 가르쳐놓은것 외의 것이 나오지 않는다.\n",
    "\n",
    "이 부분을 해결하기 위해서는 DL이 필요하다. "
   ]
  },
  {
   "cell_type": "markdown",
   "metadata": {},
   "source": [
    "T가 1.0e-7~8 정도보다 크게 잡으면 부정확하다고 하다.\n",
    "\n",
    "싱글까지는 정확해야한다 그래서 이 정도. 더블도 있따고 하는데 10의 -12,13승 해야한다고 하기도 하고\n",
    "\n",
    "데이터에 따라 다르다고 한다."
   ]
  },
  {
   "cell_type": "markdown",
   "metadata": {},
   "source": [
    "당연하게도, 작을수록 정확해진다."
   ]
  },
  {
   "cell_type": "markdown",
   "metadata": {},
   "source": [
    "시그모이드는 부드러운 경계를 가지는 함수이지만, 시그모이드 외에도 여러개의 페이즈를 갖는 형태의 함수를 얼마든지 구현해낼 수 있다. 탄젠트무슨 그런 것도 -1 ~ 1이라는데 아까 잠깐 본것인듯....\n",
    "- 인데 어디서봤더라. 자연어처리에서 본것 같기도."
   ]
  }
 ],
 "metadata": {
  "kernelspec": {
   "display_name": "Python 3 (ipykernel)",
   "language": "python",
   "name": "python3"
  },
  "language_info": {
   "codemirror_mode": {
    "name": "ipython",
    "version": 3
   },
   "file_extension": ".py",
   "mimetype": "text/x-python",
   "name": "python",
   "nbconvert_exporter": "python",
   "pygments_lexer": "ipython3",
   "version": "3.9.7"
  },
  "toc": {
   "base_numbering": 1,
   "nav_menu": {},
   "number_sections": true,
   "sideBar": true,
   "skip_h1_title": false,
   "title_cell": "Table of Contents",
   "title_sidebar": "Contents",
   "toc_cell": false,
   "toc_position": {},
   "toc_section_display": true,
   "toc_window_display": false
  }
 },
 "nbformat": 4,
 "nbformat_minor": 4
}
