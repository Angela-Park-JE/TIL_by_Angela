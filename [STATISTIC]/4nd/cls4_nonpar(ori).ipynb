{
 "cells": [
  {
   "cell_type": "code",
   "execution_count": null,
   "metadata": {},
   "outputs": [],
   "source": [
    "import numpy as np\n",
    "import pandas as pd\n",
    "import statsmodels.api as sm\n",
    "import statsmodels.formula.api as smf"
   ]
  },
  {
   "cell_type": "code",
   "execution_count": null,
   "metadata": {},
   "outputs": [],
   "source": [
    "from statsmodels.stats.descriptivestats import sign_test\n",
    "X=[5, 7, 10, 9, 1, 3, 5, 2, 6, 5, 5, 8, 9, 1, 2]\n",
    "sign_test(X,mu0=7)"
   ]
  },
  {
   "cell_type": "code",
   "execution_count": null,
   "metadata": {},
   "outputs": [],
   "source": [
    "from statsmodels.sandbox.stats.runs import runstest_1samp\n",
    "XX = [1, 2, 1, 1, 2, 2, 2, 2, 1, 1, 1, 1, 1]\n",
    "runstest_1samp(XX,cutoff='mean',correction='False')"
   ]
  },
  {
   "cell_type": "code",
   "execution_count": null,
   "metadata": {},
   "outputs": [],
   "source": [
    "# Referred from https://docs.scipy.org/doc/scipy/reference/generated/scipy.stats.ranksums.html\n",
    "from scipy.stats import ranksums\n",
    "rng = np.random.default_rng()\n",
    "sample1 = rng.uniform(-1, 1, 200)\n",
    "sample2 = rng.uniform(-0.5, 1.5, 300)\n",
    "print(ranksums(sample1, sample2))"
   ]
  },
  {
   "cell_type": "code",
   "execution_count": null,
   "metadata": {},
   "outputs": [],
   "source": [
    "# Referred from https://docs.scipy.org/doc/scipy/reference/generated/scipy.stats.wilcoxon.html\n",
    "d = [6, 8, 14, 16, 23, 24, 28, 29, 41, -48, 49, 56, 60, -67, 75]\n",
    "from scipy.stats import wilcoxon\n",
    "w, p = wilcoxon(d)\n",
    "print(w,p)"
   ]
  },
  {
   "cell_type": "code",
   "execution_count": null,
   "metadata": {},
   "outputs": [],
   "source": [
    "w, p = wilcoxon(d, mode='approx')\n",
    "print(w,p)"
   ]
  },
  {
   "cell_type": "code",
   "execution_count": null,
   "metadata": {},
   "outputs": [],
   "source": [
    "# Referred from https://docs.scipy.org/doc/scipy/reference/generated/scipy.stats.kruskal.html\n",
    "from scipy.stats import kruskal\n",
    "x = [1, 3, 5, 7, 9]\n",
    "y = [2, 4, 6, 8, 10]\n",
    "print(kruskal(x, y))"
   ]
  },
  {
   "cell_type": "code",
   "execution_count": null,
   "metadata": {},
   "outputs": [],
   "source": [
    "x = [1, 1, 1]\n",
    "y = [2, 2, 2]\n",
    "z = [2, 2]\n",
    "print(kruskal(x,y,z))"
   ]
  },
  {
   "cell_type": "code",
   "execution_count": null,
   "metadata": {},
   "outputs": [],
   "source": [
    "# Referred from https://docs.scipy.org/doc/scipy/reference/generated/scipy.stats.friedmanchisquare.html\n",
    "from scipy.stats import friedmanchisquare\n",
    "g1 = [4, 6, 3, 4, 3, 2, 2, 7, 6, 5]\n",
    "g2 = [5, 6, 8, 7, 7, 8, 4, 6, 4, 5]\n",
    "g3 = [2, 4, 4, 3, 2, 2, 1, 4, 3, 2]\n",
    "\n",
    "print(friedmanchisquare(g1,g2,g3))"
   ]
  },
  {
   "cell_type": "code",
   "execution_count": null,
   "metadata": {},
   "outputs": [],
   "source": [
    "data1=pd.read_csv('arm2.csv')\n",
    "data1"
   ]
  },
  {
   "cell_type": "code",
   "execution_count": null,
   "metadata": {},
   "outputs": [],
   "source": [
    "kruskal(data1['목표/기대수준'],data1['학습동기'],data1['참여도'],data1['유용성'],data1['이해도'],data1['집중도'],\n",
    "       data1['효과성'],data1['만족도'],data1['교수'])"
   ]
  },
  {
   "cell_type": "code",
   "execution_count": null,
   "metadata": {},
   "outputs": [],
   "source": [
    "data1.columns.name='항목'\n",
    "data2=data1.stack().rename('점수').reset_index()\n",
    "data2=data2.iloc[:,1:3]"
   ]
  },
  {
   "cell_type": "code",
   "execution_count": null,
   "metadata": {},
   "outputs": [],
   "source": [
    "import scikit_posthocs as sp\n",
    "sp.posthoc_conover(data2,val_col='점수',group_col='항목')"
   ]
  },
  {
   "cell_type": "code",
   "execution_count": null,
   "metadata": {},
   "outputs": [],
   "source": [
    "sp.posthoc_dunn(data2,val_col='점수',group_col='항목')"
   ]
  }
 ],
 "metadata": {
  "kernelspec": {
   "display_name": "Python 3",
   "language": "python",
   "name": "python3"
  },
  "language_info": {
   "codemirror_mode": {
    "name": "ipython",
    "version": 3
   },
   "file_extension": ".py",
   "mimetype": "text/x-python",
   "name": "python",
   "nbconvert_exporter": "python",
   "pygments_lexer": "ipython3",
   "version": "3.8.2"
  }
 },
 "nbformat": 4,
 "nbformat_minor": 4
}
